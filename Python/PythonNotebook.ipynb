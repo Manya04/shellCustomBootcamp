{
 "cells": [
  {
   "cell_type": "code",
   "execution_count": 1,
   "id": "5b161550",
   "metadata": {},
   "outputs": [
    {
     "name": "stdout",
     "output_type": "stream",
     "text": [
      "Enter employee id654801\n"
     ]
    }
   ],
   "source": [
    "emp = int(input(\"Enter employee id\"))"
   ]
  },
  {
   "cell_type": "code",
   "execution_count": 2,
   "id": "7ee291cb",
   "metadata": {},
   "outputs": [
    {
     "name": "stdout",
     "output_type": "stream",
     "text": [
      "654801\n"
     ]
    }
   ],
   "source": [
    "print(emp)"
   ]
  },
  {
   "cell_type": "code",
   "execution_count": 3,
   "id": "fb5de4bf",
   "metadata": {},
   "outputs": [],
   "source": [
    "weather = [\"sunny\", \"rainy\", \"windy\"]"
   ]
  },
  {
   "cell_type": "code",
   "execution_count": 2,
   "id": "65b04ddb",
   "metadata": {},
   "outputs": [],
   "source": [
    "#write a code to get hot days from the data\n",
    "#if(temp>80) --> then hotdays\n",
    "dates = ['2023-09-01', '2023-09-02', '2023-09-03', '2023-09-04', '2023-09-05']\n",
    "temperature = [78, 82, 79, 85, 88]\n",
    "humidity = [60, 65, 62, 58, 57]\n",
    "precipitation = [0.0, 0.2, 0.0, 0.0, 0.0]\n",
    "weather_data = list(zip(dates, temperature, humidity, precipitation))\n",
    "\n"
   ]
  },
  {
   "cell_type": "code",
   "execution_count": 4,
   "id": "5e9af76c",
   "metadata": {},
   "outputs": [
    {
     "name": "stdout",
     "output_type": "stream",
     "text": [
      "[('2023-09-01', 78, 60, 0.0), ('2023-09-02', 82, 65, 0.2), ('2023-09-03', 79, 62, 0.0), ('2023-09-04', 85, 58, 0.0), ('2023-09-05', 88, 57, 0.0)]\n"
     ]
    }
   ],
   "source": [
    "print(weather_data)\n"
   ]
  },
  {
   "cell_type": "code",
   "execution_count": 8,
   "id": "97d862f5",
   "metadata": {},
   "outputs": [
    {
     "name": "stdout",
     "output_type": "stream",
     "text": [
      "('2023-09-01', 78, 60, 0.0)\n",
      "('2023-09-02', 82, 65, 0.2)\n",
      "('2023-09-03', 79, 62, 0.0)\n",
      "('2023-09-04', 85, 58, 0.0)\n",
      "('2023-09-05', 88, 57, 0.0)\n"
     ]
    }
   ],
   "source": [
    "for i, index in enumerate(weather_data):\n",
    "    print(index)"
   ]
  },
  {
   "cell_type": "code",
   "execution_count": 13,
   "id": "974cc0e8",
   "metadata": {},
   "outputs": [
    {
     "name": "stdout",
     "output_type": "stream",
     "text": [
      "2023-09-02\n",
      "2023-09-04\n",
      "2023-09-05\n"
     ]
    }
   ],
   "source": [
    "for i, index in enumerate(weather_data):\n",
    "    if(index[1] > 80):\n",
    "        print(index[0])\n",
    "        "
   ]
  },
  {
   "cell_type": "code",
   "execution_count": 17,
   "id": "bca4ba97",
   "metadata": {},
   "outputs": [
    {
     "name": "stdout",
     "output_type": "stream",
     "text": [
      "2023-09-01\n",
      "2023-09-02\n",
      "2023-09-03\n",
      "2023-09-04\n",
      "2023-09-05\n"
     ]
    }
   ],
   "source": [
    "for i in enumerate(weather_data):\n",
    "    print(i[1][0])"
   ]
  },
  {
   "cell_type": "code",
   "execution_count": 27,
   "id": "ad60ea1b",
   "metadata": {},
   "outputs": [],
   "source": [
    "#create a dictionary using date and weather_forecast.\n",
    "weather_forecast = []\n",
    "for temp in temperature:\n",
    "    if temp > 85:\n",
    "        forecast = \"Hot and sunny\"\n",
    "    elif 80 <= temp <= 85:\n",
    "        forecast = \"Warm and pleasant\"\n",
    "    else:\n",
    "        forecast = \"Cool and comfortable\"\n",
    "    weather_forecast.append(forecast)"
   ]
  },
  {
   "cell_type": "code",
   "execution_count": 28,
   "id": "b9256f15",
   "metadata": {},
   "outputs": [
    {
     "name": "stdout",
     "output_type": "stream",
     "text": [
      "{'2023-09-01': 'Cool and comfortable', '2023-09-02': 'Warm and pleasant', '2023-09-03': 'Cool and comfortable', '2023-09-04': 'Warm and pleasant', '2023-09-05': 'Hot and sunny'}\n"
     ]
    }
   ],
   "source": [
    "forecast_dates = dict(zip(dates, weather_forecast))\n",
    "print(forecast_dates)\n",
    "        "
   ]
  },
  {
   "cell_type": "code",
   "execution_count": 24,
   "id": "2e443750",
   "metadata": {},
   "outputs": [
    {
     "name": "stdout",
     "output_type": "stream",
     "text": [
      "82.4\n"
     ]
    }
   ],
   "source": [
    "#Calculate avg temp\n",
    "sum = 0;\n",
    "c=0;\n",
    "for i in temperature:\n",
    "    sum += i  \n",
    "print(sum/len(temperature));\n"
   ]
  },
  {
   "cell_type": "code",
   "execution_count": null,
   "id": "c2385105",
   "metadata": {},
   "outputs": [],
   "source": [
    "#String formatting"
   ]
  },
  {
   "cell_type": "code",
   "execution_count": null,
   "id": "ab6dc271",
   "metadata": {},
   "outputs": [],
   "source": [
    "store = [1,1]\n",
    "department = [1,1]\n",
    "\n"
   ]
  },
  {
   "cell_type": "code",
   "execution_count": 6,
   "id": "9f2ebc42",
   "metadata": {},
   "outputs": [
    {
     "name": "stdout",
     "output_type": "stream",
     "text": [
      "36083.714216983404\n"
     ]
    }
   ],
   "source": [
    "#Write a python function called calculate_boyce_tempearture that calculates the Boyle's temp(in Kelvin)\n",
    "def calculate_boyce_temperature(p1,v1,p2):\n",
    "    v2 = p1*v1/p2;\n",
    "    temp = p2*v2/8.314\n",
    "    return temp\n",
    "print(calculate_boyce_temperature(300,1000,300));"
   ]
  },
  {
   "cell_type": "code",
   "execution_count": 7,
   "id": "0cc25b37",
   "metadata": {},
   "outputs": [
    {
     "name": "stdout",
     "output_type": "stream",
     "text": [
      "36083.714216983404\n"
     ]
    }
   ],
   "source": [
    "#using lambda function \n",
    "tem = lambda p1, v1, p2 : p1*v1/8.314\n",
    "print(tem(300, 1000, 300))"
   ]
  },
  {
   "cell_type": "code",
   "execution_count": 8,
   "id": "e5a763d7",
   "metadata": {},
   "outputs": [
    {
     "name": "stdout",
     "output_type": "stream",
     "text": [
      "current time:- 2023-09-19 04:27:01.194331\n"
     ]
    }
   ],
   "source": [
    "#Create a function called current_datetime that returns the current date and time in the format \"YYYY-MM-DD HH:MM:SS\"\n",
    "\n",
    "import datetime;\n",
    " \n",
    "# ct stores current time\n",
    "ct = datetime.datetime.now()\n",
    "print(\"current time:-\", ct)\n",
    " "
   ]
  },
  {
   "cell_type": "code",
   "execution_count": 16,
   "id": "d2c6e963",
   "metadata": {},
   "outputs": [
    {
     "name": "stdout",
     "output_type": "stream",
     "text": [
      "1695098275.490535\n"
     ]
    }
   ],
   "source": [
    "#Unix timestamp\n",
    "import datetime\n",
    " \n",
    "presentDate = datetime.datetime.now()\n",
    "unix_timestamp = presentDate.timestamp()\n",
    "print(unix_timestamp)"
   ]
  },
  {
   "cell_type": "code",
   "execution_count": 12,
   "id": "e9f1054b",
   "metadata": {},
   "outputs": [
    {
     "name": "stdout",
     "output_type": "stream",
     "text": [
      "19-09-2023 04:34\n"
     ]
    }
   ],
   "source": [
    "#Custom Timestamp Format: DD-MM-YYYY HH:MM\n",
    "\n",
    "\n",
    "date = datetime.datetime.now().strftime(\"%d-%m-%Y %H:%M\")\n",
    "\n",
    "print(date)\n"
   ]
  },
  {
   "cell_type": "code",
   "execution_count": 23,
   "id": "d91f7a37",
   "metadata": {},
   "outputs": [
    {
     "name": "stdout",
     "output_type": "stream",
     "text": [
      "54129600\n"
     ]
    }
   ],
   "source": [
    "#Create a fn elapsed_time that takes two timestamps as input and calculate elapsed time between them. \n",
    "def elapsed_time(startTime, endTime):\n",
    "    elapsedTime = endTime-startTime;\n",
    "    return elapsedTime.total_seconds();\n",
    "\n",
    "start_datetime = datetime.datetime(2022, 1, 1, 0, 0, 0)\n",
    "\n",
    "end_datetime = datetime.datetime(2023, 9, 19, 12, 0, 0)  \n",
    "\n",
    "elapsed_seconds = elapsed_time(start_datetime, end_datetime)\n",
    "\n",
    "print(int(elapsed_seconds))"
   ]
  },
  {
   "cell_type": "code",
   "execution_count": 34,
   "id": "1ae40af5",
   "metadata": {},
   "outputs": [
    {
     "name": "stdout",
     "output_type": "stream",
     "text": [
      "5\n",
      "6\n",
      "3\n"
     ]
    }
   ],
   "source": [
    "def fun(a,b,c=3):\n",
    "    print(a)\n",
    "    print(b)\n",
    "    print(c)\n",
    "fun(5,6)"
   ]
  },
  {
   "cell_type": "code",
   "execution_count": 38,
   "id": "350c4ab6",
   "metadata": {},
   "outputs": [
    {
     "name": "stdout",
     "output_type": "stream",
     "text": [
      "(10, 20, 30, 40)\n",
      "4\n"
     ]
    },
    {
     "data": {
      "text/plain": [
       "100"
      ]
     },
     "execution_count": 38,
     "metadata": {},
     "output_type": "execute_result"
    }
   ],
   "source": [
    "def fun(*nums):\n",
    "    print(nums)\n",
    "    print(len(nums))\n",
    "    sum = 0;\n",
    "    for i in nums:\n",
    "        sum += i;\n",
    "    return sum;\n",
    "fun(10,20,30,40)"
   ]
  },
  {
   "cell_type": "code",
   "execution_count": 47,
   "id": "a80fd00c",
   "metadata": {},
   "outputs": [
    {
     "name": "stdout",
     "output_type": "stream",
     "text": [
      "The factorial of 5 is 120\n"
     ]
    }
   ],
   "source": [
    "#Factorial --> recursive fn \n",
    "def factorial(n):\n",
    "    factorial = 1\n",
    "    for i in range(1,n+1):\n",
    "        factorial = factorial*i\n",
    "    print(\"The factorial of\",n,\"is\",factorial)\n",
    "\n",
    "factorial(5)"
   ]
  },
  {
   "cell_type": "code",
   "execution_count": 60,
   "id": "ebdc04d5",
   "metadata": {},
   "outputs": [],
   "source": [
    "def fact(n):\n",
    "    if(n==0):\n",
    "        return 1;\n",
    "    else:\n",
    "        return n*fact(n-1);"
   ]
  },
  {
   "cell_type": "code",
   "execution_count": 61,
   "id": "a2ef83f7",
   "metadata": {},
   "outputs": [
    {
     "name": "stdout",
     "output_type": "stream",
     "text": [
      "120\n"
     ]
    }
   ],
   "source": [
    "print(fact(5))"
   ]
  },
  {
   "cell_type": "code",
   "execution_count": 62,
   "id": "bcff4e80",
   "metadata": {},
   "outputs": [],
   "source": [
    "#In this scenerio: current_reserves = calculate_remaining_reserves(year-1,well) - well[\"decline_rate\"]\n",
    "oil_well = {\n",
    "    \"name\": \"Well A\",\n",
    "    \"initial_reserves\": 1000,  # Initial oil reserves in barrels\n",
    "    \"decline_rate\": 0.1,       # Annual decline rate\n",
    "}"
   ]
  },
  {
   "cell_type": "code",
   "execution_count": 66,
   "id": "7bbb3af7",
   "metadata": {},
   "outputs": [],
   "source": [
    "def calculate_remaining_reserves(year, well):\n",
    "    if(year == 0):\n",
    "        return well['initial_reserves']\n",
    "    else:\n",
    "        previous_reserves = calculate_remaining_reserves(year-1, well)\n",
    "        current_reserves = previous_reserves-(well[\"decline_rate\"])\n",
    "        return current_reserves"
   ]
  },
  {
   "cell_type": "code",
   "execution_count": 68,
   "id": "0020ce3f",
   "metadata": {},
   "outputs": [
    {
     "name": "stdout",
     "output_type": "stream",
     "text": [
      "Remaining reserves for Well A after year 1: 999.9\n",
      "Remaining reserves for Well A after year 2: 999.8\n",
      "Remaining reserves for Well A after year 3: 999.6999999999999\n",
      "Remaining reserves for Well A after year 4: 999.5999999999999\n",
      "Remaining reserves for Well A after year 5: 999.4999999999999\n"
     ]
    }
   ],
   "source": [
    "remaining_reserves1 = calculate_remaining_reserves(1,oil_well)\n",
    "remaining_reserves2 = calculate_remaining_reserves(2,oil_well)\n",
    "remaining_reserves3 = calculate_remaining_reserves(3,oil_well)\n",
    "remaining_reserves4 = calculate_remaining_reserves(4,oil_well)\n",
    "remaining_reserves5 = calculate_remaining_reserves(5,oil_well)\n",
    "print(f\"Remaining reserves for {oil_well['name']} after year 1: {remaining_reserves1}\")\n",
    "print(f\"Remaining reserves for {oil_well['name']} after year 2: {remaining_reserves2}\")\n",
    "print(f\"Remaining reserves for {oil_well['name']} after year 3: {remaining_reserves3}\")\n",
    "print(f\"Remaining reserves for {oil_well['name']} after year 4: {remaining_reserves4}\")\n",
    "print(f\"Remaining reserves for {oil_well['name']} after year 5: {remaining_reserves5}\")"
   ]
  },
  {
   "cell_type": "code",
   "execution_count": 80,
   "id": "5a01fc41",
   "metadata": {},
   "outputs": [],
   "source": [
    "def decor(func):\n",
    "    def inner(name):\n",
    "        if name == \"Sunny\":\n",
    "            print('Hello Sunny Happy morning')\n",
    "        else:\n",
    "            func(name)\n",
    "    return inner\n",
    "        "
   ]
  },
  {
   "cell_type": "code",
   "execution_count": 81,
   "id": "03383928",
   "metadata": {},
   "outputs": [
    {
     "name": "stdout",
     "output_type": "stream",
     "text": [
      "Hello Sunny Happy morning\n"
     ]
    }
   ],
   "source": [
    "@decor\n",
    "def wish(name):\n",
    "    print(\"Hello\",name,\"Good Morning\")\n",
    "    \n",
    "wish(\"Sunny\")"
   ]
  },
  {
   "cell_type": "code",
   "execution_count": 82,
   "id": "f92e8ca9",
   "metadata": {},
   "outputs": [
    {
     "name": "stdout",
     "output_type": "stream",
     "text": [
      "Hello Arjun Good Morning\n"
     ]
    }
   ],
   "source": [
    "wish(\"Arjun\")"
   ]
  },
  {
   "cell_type": "code",
   "execution_count": 2,
   "id": "39657c24",
   "metadata": {},
   "outputs": [
    {
     "name": "stdout",
     "output_type": "stream",
     "text": [
      "Start countdown\n",
      "5\n",
      "4\n",
      "3\n",
      "2\n",
      "1\n"
     ]
    }
   ],
   "source": [
    "#generator/ sequence generator\n",
    "def countdown(num):\n",
    "    print(\"Start countdown\")\n",
    "    while(num > 0):\n",
    "        yield num\n",
    "        num = num-1;\n",
    "values=countdown(5)\n",
    "for x in values:\n",
    "    print(x)"
   ]
  },
  {
   "cell_type": "code",
   "execution_count": 3,
   "id": "74bab523",
   "metadata": {},
   "outputs": [
    {
     "name": "stdout",
     "output_type": "stream",
     "text": [
      "Shipment ID 101:\n",
      "  Product Type: Crude Oil\n",
      "  Quantity: 50\n",
      "  Distance (km): 200\n",
      "  Selected Route: Route C\n",
      "  Transportation Cost: 400.00\n",
      "========================================\n",
      "Shipment ID 102:\n",
      "  Product Type: Natural Gas\n",
      "  Quantity: 1000\n",
      "  Distance (km): 300\n"
     ]
    },
    {
     "ename": "AttributeError",
     "evalue": "'Shipment' object has no attribute 'selected_route'",
     "output_type": "error",
     "traceback": [
      "\u001b[0;31m---------------------------------------------------------------------------\u001b[0m",
      "\u001b[0;31mAttributeError\u001b[0m                            Traceback (most recent call last)",
      "Cell \u001b[0;32mIn[3], line 81\u001b[0m\n\u001b[1;32m     79\u001b[0m logistics \u001b[38;5;241m=\u001b[39m LogisticsManager(routes_data, shipments_data, centers_data)\n\u001b[1;32m     80\u001b[0m logistics\u001b[38;5;241m.\u001b[39moptimize_shipments()\n\u001b[0;32m---> 81\u001b[0m logistics\u001b[38;5;241m.\u001b[39mdisplay_shipment_schedule()\n\u001b[1;32m     85\u001b[0m \u001b[38;5;66;03m# Sample data for transportation routes\u001b[39;00m\n\u001b[1;32m     86\u001b[0m routes \u001b[38;5;241m=\u001b[39m [\n\u001b[1;32m     87\u001b[0m     {\u001b[38;5;124m\"\u001b[39m\u001b[38;5;124mroute_id\u001b[39m\u001b[38;5;124m\"\u001b[39m: \u001b[38;5;241m1\u001b[39m, \u001b[38;5;124m\"\u001b[39m\u001b[38;5;124mroute_name\u001b[39m\u001b[38;5;124m\"\u001b[39m: \u001b[38;5;124m\"\u001b[39m\u001b[38;5;124mRoute A\u001b[39m\u001b[38;5;124m\"\u001b[39m, \u001b[38;5;124m\"\u001b[39m\u001b[38;5;124mcapacity\u001b[39m\u001b[38;5;124m\"\u001b[39m: \u001b[38;5;241m100\u001b[39m, \u001b[38;5;124m\"\u001b[39m\u001b[38;5;124mcost_per_km\u001b[39m\u001b[38;5;124m\"\u001b[39m: \u001b[38;5;241m2.5\u001b[39m},\n\u001b[1;32m     88\u001b[0m     {\u001b[38;5;124m\"\u001b[39m\u001b[38;5;124mroute_id\u001b[39m\u001b[38;5;124m\"\u001b[39m: \u001b[38;5;241m2\u001b[39m, \u001b[38;5;124m\"\u001b[39m\u001b[38;5;124mroute_name\u001b[39m\u001b[38;5;124m\"\u001b[39m: \u001b[38;5;124m\"\u001b[39m\u001b[38;5;124mRoute B\u001b[39m\u001b[38;5;124m\"\u001b[39m, \u001b[38;5;124m\"\u001b[39m\u001b[38;5;124mcapacity\u001b[39m\u001b[38;5;124m\"\u001b[39m: \u001b[38;5;241m150\u001b[39m, \u001b[38;5;124m\"\u001b[39m\u001b[38;5;124mcost_per_km\u001b[39m\u001b[38;5;124m\"\u001b[39m: \u001b[38;5;241m3.0\u001b[39m},\n\u001b[1;32m     89\u001b[0m     {\u001b[38;5;124m\"\u001b[39m\u001b[38;5;124mroute_id\u001b[39m\u001b[38;5;124m\"\u001b[39m: \u001b[38;5;241m3\u001b[39m, \u001b[38;5;124m\"\u001b[39m\u001b[38;5;124mroute_name\u001b[39m\u001b[38;5;124m\"\u001b[39m: \u001b[38;5;124m\"\u001b[39m\u001b[38;5;124mRoute C\u001b[39m\u001b[38;5;124m\"\u001b[39m, \u001b[38;5;124m\"\u001b[39m\u001b[38;5;124mcapacity\u001b[39m\u001b[38;5;124m\"\u001b[39m: \u001b[38;5;241m200\u001b[39m, \u001b[38;5;124m\"\u001b[39m\u001b[38;5;124mcost_per_km\u001b[39m\u001b[38;5;124m\"\u001b[39m: \u001b[38;5;241m2.0\u001b[39m},\n\u001b[1;32m     90\u001b[0m ]\n",
      "Cell \u001b[0;32mIn[3], line 54\u001b[0m, in \u001b[0;36mLogisticsManager.display_shipment_schedule\u001b[0;34m(self)\u001b[0m\n\u001b[1;32m     52\u001b[0m \u001b[38;5;28mprint\u001b[39m(\u001b[38;5;124mf\u001b[39m\u001b[38;5;124m\"\u001b[39m\u001b[38;5;124m  Quantity: \u001b[39m\u001b[38;5;132;01m{\u001b[39;00mshipment\u001b[38;5;241m.\u001b[39mquantity\u001b[38;5;132;01m}\u001b[39;00m\u001b[38;5;124m\"\u001b[39m)\n\u001b[1;32m     53\u001b[0m \u001b[38;5;28mprint\u001b[39m(\u001b[38;5;124mf\u001b[39m\u001b[38;5;124m\"\u001b[39m\u001b[38;5;124m  Distance (km): \u001b[39m\u001b[38;5;132;01m{\u001b[39;00mshipment\u001b[38;5;241m.\u001b[39mdistance_km\u001b[38;5;132;01m}\u001b[39;00m\u001b[38;5;124m\"\u001b[39m)\n\u001b[0;32m---> 54\u001b[0m \u001b[38;5;28mprint\u001b[39m(\u001b[38;5;124mf\u001b[39m\u001b[38;5;124m\"\u001b[39m\u001b[38;5;124m  Selected Route: \u001b[39m\u001b[38;5;132;01m{\u001b[39;00mshipment\u001b[38;5;241m.\u001b[39mselected_route\u001b[38;5;241m.\u001b[39mroute_name\u001b[38;5;132;01m}\u001b[39;00m\u001b[38;5;124m\"\u001b[39m)\n\u001b[1;32m     55\u001b[0m \u001b[38;5;28mprint\u001b[39m(\u001b[38;5;124mf\u001b[39m\u001b[38;5;124m\"\u001b[39m\u001b[38;5;124m  Transportation Cost: \u001b[39m\u001b[38;5;132;01m{\u001b[39;00mshipment\u001b[38;5;241m.\u001b[39mcost\u001b[38;5;132;01m:\u001b[39;00m\u001b[38;5;124m.2f\u001b[39m\u001b[38;5;132;01m}\u001b[39;00m\u001b[38;5;124m\"\u001b[39m)\n\u001b[1;32m     56\u001b[0m \u001b[38;5;28mprint\u001b[39m(\u001b[38;5;124m\"\u001b[39m\u001b[38;5;124m=\u001b[39m\u001b[38;5;124m\"\u001b[39m \u001b[38;5;241m*\u001b[39m \u001b[38;5;241m40\u001b[39m)\n",
      "\u001b[0;31mAttributeError\u001b[0m: 'Shipment' object has no attribute 'selected_route'"
     ]
    }
   ],
   "source": [
    "class Route:\n",
    "    def __init__(self, route_id, route_name, capacity, cost_per_km):\n",
    "        self.route_id = route_id\n",
    "        self.route_name = route_name\n",
    "        self.capacity = capacity\n",
    "        self.cost_per_km = cost_per_km\n",
    "        self.capacity_available = capacity\n",
    "\n",
    "class Shipment:\n",
    "    def __init__(self, shipment_id, product_type, quantity, distance_km):\n",
    "        self.shipment_id = shipment_id\n",
    "        self.product_type = product_type\n",
    "        self.quantity = quantity\n",
    "        self.distance_km = distance_km\n",
    "        self.cost = 0  # Placeholder for calculated cost\n",
    "\n",
    "class DistributionCenter:\n",
    "    def __init__(self, center_id, center_name, location):\n",
    "        self.center_id = center_id\n",
    "        self.center_name = center_name\n",
    "        self.location = location\n",
    "\n",
    "class LogisticsManager:\n",
    "    def __init__(self, routes, shipments, distribution_centers):\n",
    "        self.routes = [Route(**r) for r in routes]\n",
    "        self.shipments = [Shipment(**s) for s in shipments]\n",
    "        self.distribution_centers = [DistributionCenter(**dc) for dc in distribution_centers]\n",
    "\n",
    "    def calculate_transport_cost(self, route, shipment):\n",
    "        cost = route.cost_per_km * shipment.distance_km\n",
    "        return cost\n",
    "\n",
    "    def check_route_availability(self, route, shipment):\n",
    "        if route.capacity_available >= shipment.quantity:\n",
    "            return True\n",
    "        else:\n",
    "            return False\n",
    "\n",
    "    def optimize_shipments(self):\n",
    "        for shipment in self.shipments:\n",
    "            for route in self.routes:\n",
    "                if self.check_route_availability(route, shipment):\n",
    "                    cost = self.calculate_transport_cost(route, shipment)\n",
    "                    if not shipment.cost or cost < shipment.cost:\n",
    "                        shipment.cost = cost\n",
    "                        shipment.selected_route = route\n",
    "\n",
    "    def display_shipment_schedule(self):\n",
    "        for shipment in self.shipments:\n",
    "            print(f\"Shipment ID {shipment.shipment_id}:\")\n",
    "            print(f\"  Product Type: {shipment.product_type}\")\n",
    "            print(f\"  Quantity: {shipment.quantity}\")\n",
    "            print(f\"  Distance (km): {shipment.distance_km}\")\n",
    "            print(f\"  Selected Route: {shipment.selected_route.route_name}\")\n",
    "            print(f\"  Transportation Cost: {shipment.cost:.2f}\")\n",
    "            print(\"=\" * 40)\n",
    "\n",
    "# Sample data\n",
    "routes_data = [\n",
    "    {\"route_id\": 1, \"route_name\": \"Route A\", \"capacity\": 100, \"cost_per_km\": 2.5},\n",
    "    {\"route_id\": 2, \"route_name\": \"Route B\", \"capacity\": 150, \"cost_per_km\": 3.0},\n",
    "    {\"route_id\": 3, \"route_name\": \"Route C\", \"capacity\": 200, \"cost_per_km\": 2.0},\n",
    "]\n",
    "\n",
    "shipments_data = [\n",
    "    {\"shipment_id\": 101, \"product_type\": \"Crude Oil\", \"quantity\": 50, \"distance_km\": 200},\n",
    "    {\"shipment_id\": 102, \"product_type\": \"Natural Gas\", \"quantity\": 1000, \"distance_km\": 300},\n",
    "    {\"shipment_id\": 103, \"product_type\": \"Crude Oil\", \"quantity\": 80, \"distance_km\": 150},\n",
    "    {\"shipment_id\": 104, \"product_type\": \"Liquefied Natural Gas (LNG)\", \"quantity\": 500, \"distance_km\": 250},\n",
    "]\n",
    "\n",
    "centers_data = [\n",
    "    {\"center_id\": 1, \"center_name\": \"Center X\", \"location\": \"City A\"},\n",
    "    {\"center_id\": 2, \"center_name\": \"Center Y\", \"location\": \"City B\"},\n",
    "    {\"center_id\": 3, \"center_name\": \"Center Z\", \"location\": \"City C\"},\n",
    "]\n",
    "\n",
    "# Create and manage logistics\n",
    "logistics = LogisticsManager(routes_data, shipments_data, centers_data)\n",
    "logistics.optimize_shipments()\n",
    "logistics.display_shipment_schedule()\n",
    "\n",
    "\n",
    "\n",
    "# Sample data for transportation routes\n",
    "routes = [\n",
    "    {\"route_id\": 1, \"route_name\": \"Route A\", \"capacity\": 100, \"cost_per_km\": 2.5},\n",
    "    {\"route_id\": 2, \"route_name\": \"Route B\", \"capacity\": 150, \"cost_per_km\": 3.0},\n",
    "    {\"route_id\": 3, \"route_name\": \"Route C\", \"capacity\": 200, \"cost_per_km\": 2.0},\n",
    "]\n",
    "\n",
    "# Sample data for product shipments\n",
    "shipments = [\n",
    "    {\"shipment_id\": 101, \"product_type\": \"Crude Oil\", \"quantity\": 50, \"distance_km\": 200},\n",
    "    {\"shipment_id\": 102, \"product_type\": \"Natural Gas\", \"quantity\": 1000, \"distance_km\": 300},\n",
    "    {\"shipment_id\": 103, \"product_type\": \"Crude Oil\", \"quantity\": 80, \"distance_km\": 150},\n",
    "    {\"shipment_id\": 104, \"product_type\": \"Liquefied Natural Gas (LNG)\", \"quantity\": 500, \"distance_km\": 250},\n",
    "]\n",
    "\n",
    "# Sample data for distribution centers\n",
    "distribution_centers = [\n",
    "    {\"center_id\": 1, \"center_name\": \"Center X\", \"location\": \"City A\"},\n",
    "    {\"center_id\": 2, \"center_name\": \"Center Y\", \"location\": \"City B\"},\n",
    "    {\"center_id\": 3, \"center_name\": \"Center Z\", \"location\": \"City C\"},\n",
    "]\n",
    "\n",
    "# Sample data for available routes and their capacities\n",
    "available_routes = [\n",
    "    {\"route_id\": 1, \"capacity_available\": 80},\n",
    "    {\"route_id\": 2, \"capacity_available\": 120},\n",
    "    {\"route_id\": 3, \"capacity_available\": 180},\n",
    "]\n",
    "\n",
    "# Sample data for logging shipment activities\n",
    "shipment_logs = []\n",
    "\n",
    "# Sample data for product scheduling (for recursive function)\n",
    "product_quantities = {\n",
    "    \"Crude Oil\": 200,\n",
    "    \"Natural Gas\": 800,\n",
    "    \"Liquefied Natural Gas (LNG)\": 300,\n",
    "}\n"
   ]
  },
  {
   "cell_type": "code",
   "execution_count": 7,
   "id": "0fe1a36c",
   "metadata": {},
   "outputs": [
    {
     "name": "stdout",
     "output_type": "stream",
     "text": [
      "Enter a text: Hey! ssup?\n",
      "Word count: 2\n"
     ]
    }
   ],
   "source": [
    "def word_count(text):\n",
    "    words = text.split()\n",
    "    \n",
    "    count = len(words)\n",
    "    \n",
    "    return count\n",
    "\n",
    "input_text = input(\"Enter a text: \")\n",
    "\n",
    "count = word_count(input_text)\n",
    "print(f\"Word count: {count}\")"
   ]
  },
  {
   "cell_type": "code",
   "execution_count": 12,
   "id": "24a83071",
   "metadata": {},
   "outputs": [],
   "source": [
    "data = {\n",
    "    'apples': [3, 2, 0, 1], \n",
    "    'oranges': [0, 3, 7, 2]\n",
    "}\n"
   ]
  },
  {
   "cell_type": "code",
   "execution_count": 13,
   "id": "a0ed51be",
   "metadata": {},
   "outputs": [],
   "source": [
    "import pandas as pd"
   ]
  },
  {
   "cell_type": "code",
   "execution_count": 14,
   "id": "fdcb6852",
   "metadata": {},
   "outputs": [],
   "source": [
    "purchases = pd.DataFrame(data)"
   ]
  },
  {
   "cell_type": "code",
   "execution_count": 15,
   "id": "987b7be9",
   "metadata": {},
   "outputs": [],
   "source": [
    "purchases = pd.DataFrame(data, index=['June', 'Robert', 'Lily', 'David'])\n"
   ]
  },
  {
   "cell_type": "code",
   "execution_count": 16,
   "id": "147aa93e",
   "metadata": {},
   "outputs": [
    {
     "data": {
      "text/plain": [
       "apples     3\n",
       "oranges    0\n",
       "Name: June, dtype: int64"
      ]
     },
     "execution_count": 16,
     "metadata": {},
     "output_type": "execute_result"
    }
   ],
   "source": [
    "purchases.loc['June']\n"
   ]
  },
  {
   "cell_type": "code",
   "execution_count": 17,
   "id": "b47107f9",
   "metadata": {},
   "outputs": [],
   "source": [
    "moviedf = pd.read_csv('/home/labuser/Downloads/IMDB-Movie-Data.csv')"
   ]
  },
  {
   "cell_type": "code",
   "execution_count": 18,
   "id": "e1c0727b",
   "metadata": {},
   "outputs": [
    {
     "data": {
      "text/html": [
       "<div>\n",
       "<style scoped>\n",
       "    .dataframe tbody tr th:only-of-type {\n",
       "        vertical-align: middle;\n",
       "    }\n",
       "\n",
       "    .dataframe tbody tr th {\n",
       "        vertical-align: top;\n",
       "    }\n",
       "\n",
       "    .dataframe thead th {\n",
       "        text-align: right;\n",
       "    }\n",
       "</style>\n",
       "<table border=\"1\" class=\"dataframe\">\n",
       "  <thead>\n",
       "    <tr style=\"text-align: right;\">\n",
       "      <th></th>\n",
       "      <th>Rank</th>\n",
       "      <th>Title</th>\n",
       "      <th>Genre</th>\n",
       "      <th>Description</th>\n",
       "      <th>Director</th>\n",
       "      <th>Actors</th>\n",
       "      <th>Year</th>\n",
       "      <th>Runtime (Minutes)</th>\n",
       "      <th>Rating</th>\n",
       "      <th>Votes</th>\n",
       "      <th>Revenue (Millions)</th>\n",
       "      <th>Metascore</th>\n",
       "    </tr>\n",
       "  </thead>\n",
       "  <tbody>\n",
       "    <tr>\n",
       "      <th>0</th>\n",
       "      <td>1</td>\n",
       "      <td>Guardians of the Galaxy</td>\n",
       "      <td>Action,Adventure,Sci-Fi</td>\n",
       "      <td>A group of intergalactic criminals are forced ...</td>\n",
       "      <td>James Gunn</td>\n",
       "      <td>Chris Pratt, Vin Diesel, Bradley Cooper, Zoe S...</td>\n",
       "      <td>2014</td>\n",
       "      <td>121</td>\n",
       "      <td>8.1</td>\n",
       "      <td>757074</td>\n",
       "      <td>333.13</td>\n",
       "      <td>76.0</td>\n",
       "    </tr>\n",
       "    <tr>\n",
       "      <th>1</th>\n",
       "      <td>2</td>\n",
       "      <td>Prometheus</td>\n",
       "      <td>Adventure,Mystery,Sci-Fi</td>\n",
       "      <td>Following clues to the origin of mankind, a te...</td>\n",
       "      <td>Ridley Scott</td>\n",
       "      <td>Noomi Rapace, Logan Marshall-Green, Michael Fa...</td>\n",
       "      <td>2012</td>\n",
       "      <td>124</td>\n",
       "      <td>7.0</td>\n",
       "      <td>485820</td>\n",
       "      <td>126.46</td>\n",
       "      <td>65.0</td>\n",
       "    </tr>\n",
       "    <tr>\n",
       "      <th>2</th>\n",
       "      <td>3</td>\n",
       "      <td>Split</td>\n",
       "      <td>Horror,Thriller</td>\n",
       "      <td>Three girls are kidnapped by a man with a diag...</td>\n",
       "      <td>M. Night Shyamalan</td>\n",
       "      <td>James McAvoy, Anya Taylor-Joy, Haley Lu Richar...</td>\n",
       "      <td>2016</td>\n",
       "      <td>117</td>\n",
       "      <td>7.3</td>\n",
       "      <td>157606</td>\n",
       "      <td>138.12</td>\n",
       "      <td>62.0</td>\n",
       "    </tr>\n",
       "    <tr>\n",
       "      <th>3</th>\n",
       "      <td>4</td>\n",
       "      <td>Sing</td>\n",
       "      <td>Animation,Comedy,Family</td>\n",
       "      <td>In a city of humanoid animals, a hustling thea...</td>\n",
       "      <td>Christophe Lourdelet</td>\n",
       "      <td>Matthew McConaughey,Reese Witherspoon, Seth Ma...</td>\n",
       "      <td>2016</td>\n",
       "      <td>108</td>\n",
       "      <td>7.2</td>\n",
       "      <td>60545</td>\n",
       "      <td>270.32</td>\n",
       "      <td>59.0</td>\n",
       "    </tr>\n",
       "    <tr>\n",
       "      <th>4</th>\n",
       "      <td>5</td>\n",
       "      <td>Suicide Squad</td>\n",
       "      <td>Action,Adventure,Fantasy</td>\n",
       "      <td>A secret government agency recruits some of th...</td>\n",
       "      <td>David Ayer</td>\n",
       "      <td>Will Smith, Jared Leto, Margot Robbie, Viola D...</td>\n",
       "      <td>2016</td>\n",
       "      <td>123</td>\n",
       "      <td>6.2</td>\n",
       "      <td>393727</td>\n",
       "      <td>325.02</td>\n",
       "      <td>40.0</td>\n",
       "    </tr>\n",
       "    <tr>\n",
       "      <th>...</th>\n",
       "      <td>...</td>\n",
       "      <td>...</td>\n",
       "      <td>...</td>\n",
       "      <td>...</td>\n",
       "      <td>...</td>\n",
       "      <td>...</td>\n",
       "      <td>...</td>\n",
       "      <td>...</td>\n",
       "      <td>...</td>\n",
       "      <td>...</td>\n",
       "      <td>...</td>\n",
       "      <td>...</td>\n",
       "    </tr>\n",
       "    <tr>\n",
       "      <th>995</th>\n",
       "      <td>996</td>\n",
       "      <td>Secret in Their Eyes</td>\n",
       "      <td>Crime,Drama,Mystery</td>\n",
       "      <td>A tight-knit team of rising investigators, alo...</td>\n",
       "      <td>Billy Ray</td>\n",
       "      <td>Chiwetel Ejiofor, Nicole Kidman, Julia Roberts...</td>\n",
       "      <td>2015</td>\n",
       "      <td>111</td>\n",
       "      <td>6.2</td>\n",
       "      <td>27585</td>\n",
       "      <td>NaN</td>\n",
       "      <td>45.0</td>\n",
       "    </tr>\n",
       "    <tr>\n",
       "      <th>996</th>\n",
       "      <td>997</td>\n",
       "      <td>Hostel: Part II</td>\n",
       "      <td>Horror</td>\n",
       "      <td>Three American college students studying abroa...</td>\n",
       "      <td>Eli Roth</td>\n",
       "      <td>Lauren German, Heather Matarazzo, Bijou Philli...</td>\n",
       "      <td>2007</td>\n",
       "      <td>94</td>\n",
       "      <td>5.5</td>\n",
       "      <td>73152</td>\n",
       "      <td>17.54</td>\n",
       "      <td>46.0</td>\n",
       "    </tr>\n",
       "    <tr>\n",
       "      <th>997</th>\n",
       "      <td>998</td>\n",
       "      <td>Step Up 2: The Streets</td>\n",
       "      <td>Drama,Music,Romance</td>\n",
       "      <td>Romantic sparks occur between two dance studen...</td>\n",
       "      <td>Jon M. Chu</td>\n",
       "      <td>Robert Hoffman, Briana Evigan, Cassie Ventura,...</td>\n",
       "      <td>2008</td>\n",
       "      <td>98</td>\n",
       "      <td>6.2</td>\n",
       "      <td>70699</td>\n",
       "      <td>58.01</td>\n",
       "      <td>50.0</td>\n",
       "    </tr>\n",
       "    <tr>\n",
       "      <th>998</th>\n",
       "      <td>999</td>\n",
       "      <td>Search Party</td>\n",
       "      <td>Adventure,Comedy</td>\n",
       "      <td>A pair of friends embark on a mission to reuni...</td>\n",
       "      <td>Scot Armstrong</td>\n",
       "      <td>Adam Pally, T.J. Miller, Thomas Middleditch,Sh...</td>\n",
       "      <td>2014</td>\n",
       "      <td>93</td>\n",
       "      <td>5.6</td>\n",
       "      <td>4881</td>\n",
       "      <td>NaN</td>\n",
       "      <td>22.0</td>\n",
       "    </tr>\n",
       "    <tr>\n",
       "      <th>999</th>\n",
       "      <td>1000</td>\n",
       "      <td>Nine Lives</td>\n",
       "      <td>Comedy,Family,Fantasy</td>\n",
       "      <td>A stuffy businessman finds himself trapped ins...</td>\n",
       "      <td>Barry Sonnenfeld</td>\n",
       "      <td>Kevin Spacey, Jennifer Garner, Robbie Amell,Ch...</td>\n",
       "      <td>2016</td>\n",
       "      <td>87</td>\n",
       "      <td>5.3</td>\n",
       "      <td>12435</td>\n",
       "      <td>19.64</td>\n",
       "      <td>11.0</td>\n",
       "    </tr>\n",
       "  </tbody>\n",
       "</table>\n",
       "<p>1000 rows × 12 columns</p>\n",
       "</div>"
      ],
      "text/plain": [
       "     Rank                    Title                     Genre  \\\n",
       "0       1  Guardians of the Galaxy   Action,Adventure,Sci-Fi   \n",
       "1       2               Prometheus  Adventure,Mystery,Sci-Fi   \n",
       "2       3                    Split           Horror,Thriller   \n",
       "3       4                     Sing   Animation,Comedy,Family   \n",
       "4       5            Suicide Squad  Action,Adventure,Fantasy   \n",
       "..    ...                      ...                       ...   \n",
       "995   996     Secret in Their Eyes       Crime,Drama,Mystery   \n",
       "996   997          Hostel: Part II                    Horror   \n",
       "997   998   Step Up 2: The Streets       Drama,Music,Romance   \n",
       "998   999             Search Party          Adventure,Comedy   \n",
       "999  1000               Nine Lives     Comedy,Family,Fantasy   \n",
       "\n",
       "                                           Description              Director  \\\n",
       "0    A group of intergalactic criminals are forced ...            James Gunn   \n",
       "1    Following clues to the origin of mankind, a te...          Ridley Scott   \n",
       "2    Three girls are kidnapped by a man with a diag...    M. Night Shyamalan   \n",
       "3    In a city of humanoid animals, a hustling thea...  Christophe Lourdelet   \n",
       "4    A secret government agency recruits some of th...            David Ayer   \n",
       "..                                                 ...                   ...   \n",
       "995  A tight-knit team of rising investigators, alo...             Billy Ray   \n",
       "996  Three American college students studying abroa...              Eli Roth   \n",
       "997  Romantic sparks occur between two dance studen...            Jon M. Chu   \n",
       "998  A pair of friends embark on a mission to reuni...        Scot Armstrong   \n",
       "999  A stuffy businessman finds himself trapped ins...      Barry Sonnenfeld   \n",
       "\n",
       "                                                Actors  Year  \\\n",
       "0    Chris Pratt, Vin Diesel, Bradley Cooper, Zoe S...  2014   \n",
       "1    Noomi Rapace, Logan Marshall-Green, Michael Fa...  2012   \n",
       "2    James McAvoy, Anya Taylor-Joy, Haley Lu Richar...  2016   \n",
       "3    Matthew McConaughey,Reese Witherspoon, Seth Ma...  2016   \n",
       "4    Will Smith, Jared Leto, Margot Robbie, Viola D...  2016   \n",
       "..                                                 ...   ...   \n",
       "995  Chiwetel Ejiofor, Nicole Kidman, Julia Roberts...  2015   \n",
       "996  Lauren German, Heather Matarazzo, Bijou Philli...  2007   \n",
       "997  Robert Hoffman, Briana Evigan, Cassie Ventura,...  2008   \n",
       "998  Adam Pally, T.J. Miller, Thomas Middleditch,Sh...  2014   \n",
       "999  Kevin Spacey, Jennifer Garner, Robbie Amell,Ch...  2016   \n",
       "\n",
       "     Runtime (Minutes)  Rating   Votes  Revenue (Millions)  Metascore  \n",
       "0                  121     8.1  757074              333.13       76.0  \n",
       "1                  124     7.0  485820              126.46       65.0  \n",
       "2                  117     7.3  157606              138.12       62.0  \n",
       "3                  108     7.2   60545              270.32       59.0  \n",
       "4                  123     6.2  393727              325.02       40.0  \n",
       "..                 ...     ...     ...                 ...        ...  \n",
       "995                111     6.2   27585                 NaN       45.0  \n",
       "996                 94     5.5   73152               17.54       46.0  \n",
       "997                 98     6.2   70699               58.01       50.0  \n",
       "998                 93     5.6    4881                 NaN       22.0  \n",
       "999                 87     5.3   12435               19.64       11.0  \n",
       "\n",
       "[1000 rows x 12 columns]"
      ]
     },
     "execution_count": 18,
     "metadata": {},
     "output_type": "execute_result"
    }
   ],
   "source": [
    "moviedf"
   ]
  },
  {
   "cell_type": "code",
   "execution_count": 19,
   "id": "72d8cbdc",
   "metadata": {},
   "outputs": [
    {
     "data": {
      "text/html": [
       "<div>\n",
       "<style scoped>\n",
       "    .dataframe tbody tr th:only-of-type {\n",
       "        vertical-align: middle;\n",
       "    }\n",
       "\n",
       "    .dataframe tbody tr th {\n",
       "        vertical-align: top;\n",
       "    }\n",
       "\n",
       "    .dataframe thead th {\n",
       "        text-align: right;\n",
       "    }\n",
       "</style>\n",
       "<table border=\"1\" class=\"dataframe\">\n",
       "  <thead>\n",
       "    <tr style=\"text-align: right;\">\n",
       "      <th></th>\n",
       "      <th>Rank</th>\n",
       "      <th>Title</th>\n",
       "      <th>Genre</th>\n",
       "      <th>Description</th>\n",
       "      <th>Director</th>\n",
       "      <th>Actors</th>\n",
       "      <th>Year</th>\n",
       "      <th>Runtime (Minutes)</th>\n",
       "      <th>Rating</th>\n",
       "      <th>Votes</th>\n",
       "      <th>Revenue (Millions)</th>\n",
       "      <th>Metascore</th>\n",
       "    </tr>\n",
       "  </thead>\n",
       "  <tbody>\n",
       "    <tr>\n",
       "      <th>0</th>\n",
       "      <td>1</td>\n",
       "      <td>Guardians of the Galaxy</td>\n",
       "      <td>Action,Adventure,Sci-Fi</td>\n",
       "      <td>A group of intergalactic criminals are forced ...</td>\n",
       "      <td>James Gunn</td>\n",
       "      <td>Chris Pratt, Vin Diesel, Bradley Cooper, Zoe S...</td>\n",
       "      <td>2014</td>\n",
       "      <td>121</td>\n",
       "      <td>8.1</td>\n",
       "      <td>757074</td>\n",
       "      <td>333.13</td>\n",
       "      <td>76.0</td>\n",
       "    </tr>\n",
       "    <tr>\n",
       "      <th>1</th>\n",
       "      <td>2</td>\n",
       "      <td>Prometheus</td>\n",
       "      <td>Adventure,Mystery,Sci-Fi</td>\n",
       "      <td>Following clues to the origin of mankind, a te...</td>\n",
       "      <td>Ridley Scott</td>\n",
       "      <td>Noomi Rapace, Logan Marshall-Green, Michael Fa...</td>\n",
       "      <td>2012</td>\n",
       "      <td>124</td>\n",
       "      <td>7.0</td>\n",
       "      <td>485820</td>\n",
       "      <td>126.46</td>\n",
       "      <td>65.0</td>\n",
       "    </tr>\n",
       "    <tr>\n",
       "      <th>2</th>\n",
       "      <td>3</td>\n",
       "      <td>Split</td>\n",
       "      <td>Horror,Thriller</td>\n",
       "      <td>Three girls are kidnapped by a man with a diag...</td>\n",
       "      <td>M. Night Shyamalan</td>\n",
       "      <td>James McAvoy, Anya Taylor-Joy, Haley Lu Richar...</td>\n",
       "      <td>2016</td>\n",
       "      <td>117</td>\n",
       "      <td>7.3</td>\n",
       "      <td>157606</td>\n",
       "      <td>138.12</td>\n",
       "      <td>62.0</td>\n",
       "    </tr>\n",
       "    <tr>\n",
       "      <th>3</th>\n",
       "      <td>4</td>\n",
       "      <td>Sing</td>\n",
       "      <td>Animation,Comedy,Family</td>\n",
       "      <td>In a city of humanoid animals, a hustling thea...</td>\n",
       "      <td>Christophe Lourdelet</td>\n",
       "      <td>Matthew McConaughey,Reese Witherspoon, Seth Ma...</td>\n",
       "      <td>2016</td>\n",
       "      <td>108</td>\n",
       "      <td>7.2</td>\n",
       "      <td>60545</td>\n",
       "      <td>270.32</td>\n",
       "      <td>59.0</td>\n",
       "    </tr>\n",
       "    <tr>\n",
       "      <th>4</th>\n",
       "      <td>5</td>\n",
       "      <td>Suicide Squad</td>\n",
       "      <td>Action,Adventure,Fantasy</td>\n",
       "      <td>A secret government agency recruits some of th...</td>\n",
       "      <td>David Ayer</td>\n",
       "      <td>Will Smith, Jared Leto, Margot Robbie, Viola D...</td>\n",
       "      <td>2016</td>\n",
       "      <td>123</td>\n",
       "      <td>6.2</td>\n",
       "      <td>393727</td>\n",
       "      <td>325.02</td>\n",
       "      <td>40.0</td>\n",
       "    </tr>\n",
       "  </tbody>\n",
       "</table>\n",
       "</div>"
      ],
      "text/plain": [
       "   Rank                    Title                     Genre  \\\n",
       "0     1  Guardians of the Galaxy   Action,Adventure,Sci-Fi   \n",
       "1     2               Prometheus  Adventure,Mystery,Sci-Fi   \n",
       "2     3                    Split           Horror,Thriller   \n",
       "3     4                     Sing   Animation,Comedy,Family   \n",
       "4     5            Suicide Squad  Action,Adventure,Fantasy   \n",
       "\n",
       "                                         Description              Director  \\\n",
       "0  A group of intergalactic criminals are forced ...            James Gunn   \n",
       "1  Following clues to the origin of mankind, a te...          Ridley Scott   \n",
       "2  Three girls are kidnapped by a man with a diag...    M. Night Shyamalan   \n",
       "3  In a city of humanoid animals, a hustling thea...  Christophe Lourdelet   \n",
       "4  A secret government agency recruits some of th...            David Ayer   \n",
       "\n",
       "                                              Actors  Year  Runtime (Minutes)  \\\n",
       "0  Chris Pratt, Vin Diesel, Bradley Cooper, Zoe S...  2014                121   \n",
       "1  Noomi Rapace, Logan Marshall-Green, Michael Fa...  2012                124   \n",
       "2  James McAvoy, Anya Taylor-Joy, Haley Lu Richar...  2016                117   \n",
       "3  Matthew McConaughey,Reese Witherspoon, Seth Ma...  2016                108   \n",
       "4  Will Smith, Jared Leto, Margot Robbie, Viola D...  2016                123   \n",
       "\n",
       "   Rating   Votes  Revenue (Millions)  Metascore  \n",
       "0     8.1  757074              333.13       76.0  \n",
       "1     7.0  485820              126.46       65.0  \n",
       "2     7.3  157606              138.12       62.0  \n",
       "3     7.2   60545              270.32       59.0  \n",
       "4     6.2  393727              325.02       40.0  "
      ]
     },
     "execution_count": 19,
     "metadata": {},
     "output_type": "execute_result"
    }
   ],
   "source": [
    "moviedf.head()"
   ]
  },
  {
   "cell_type": "code",
   "execution_count": 20,
   "id": "996ac148",
   "metadata": {},
   "outputs": [
    {
     "name": "stdout",
     "output_type": "stream",
     "text": [
      "<class 'pandas.core.frame.DataFrame'>\n",
      "RangeIndex: 1000 entries, 0 to 999\n",
      "Data columns (total 12 columns):\n",
      " #   Column              Non-Null Count  Dtype  \n",
      "---  ------              --------------  -----  \n",
      " 0   Rank                1000 non-null   int64  \n",
      " 1   Title               1000 non-null   object \n",
      " 2   Genre               1000 non-null   object \n",
      " 3   Description         1000 non-null   object \n",
      " 4   Director            1000 non-null   object \n",
      " 5   Actors              1000 non-null   object \n",
      " 6   Year                1000 non-null   int64  \n",
      " 7   Runtime (Minutes)   1000 non-null   int64  \n",
      " 8   Rating              1000 non-null   float64\n",
      " 9   Votes               1000 non-null   int64  \n",
      " 10  Revenue (Millions)  872 non-null    float64\n",
      " 11  Metascore           936 non-null    float64\n",
      "dtypes: float64(3), int64(4), object(5)\n",
      "memory usage: 93.9+ KB\n"
     ]
    }
   ],
   "source": [
    "moviedf.info()"
   ]
  },
  {
   "cell_type": "code",
   "execution_count": 21,
   "id": "caa02170",
   "metadata": {},
   "outputs": [
    {
     "data": {
      "text/html": [
       "<div>\n",
       "<style scoped>\n",
       "    .dataframe tbody tr th:only-of-type {\n",
       "        vertical-align: middle;\n",
       "    }\n",
       "\n",
       "    .dataframe tbody tr th {\n",
       "        vertical-align: top;\n",
       "    }\n",
       "\n",
       "    .dataframe thead th {\n",
       "        text-align: right;\n",
       "    }\n",
       "</style>\n",
       "<table border=\"1\" class=\"dataframe\">\n",
       "  <thead>\n",
       "    <tr style=\"text-align: right;\">\n",
       "      <th></th>\n",
       "      <th>Rank</th>\n",
       "      <th>Title</th>\n",
       "      <th>Genre</th>\n",
       "      <th>Description</th>\n",
       "      <th>Director</th>\n",
       "      <th>Actors</th>\n",
       "      <th>Year</th>\n",
       "      <th>Runtime (Minutes)</th>\n",
       "      <th>Rating</th>\n",
       "      <th>Votes</th>\n",
       "      <th>Revenue (Millions)</th>\n",
       "      <th>Metascore</th>\n",
       "    </tr>\n",
       "  </thead>\n",
       "  <tbody>\n",
       "    <tr>\n",
       "      <th>998</th>\n",
       "      <td>999</td>\n",
       "      <td>Search Party</td>\n",
       "      <td>Adventure,Comedy</td>\n",
       "      <td>A pair of friends embark on a mission to reuni...</td>\n",
       "      <td>Scot Armstrong</td>\n",
       "      <td>Adam Pally, T.J. Miller, Thomas Middleditch,Sh...</td>\n",
       "      <td>2014</td>\n",
       "      <td>93</td>\n",
       "      <td>5.6</td>\n",
       "      <td>4881</td>\n",
       "      <td>NaN</td>\n",
       "      <td>22.0</td>\n",
       "    </tr>\n",
       "    <tr>\n",
       "      <th>999</th>\n",
       "      <td>1000</td>\n",
       "      <td>Nine Lives</td>\n",
       "      <td>Comedy,Family,Fantasy</td>\n",
       "      <td>A stuffy businessman finds himself trapped ins...</td>\n",
       "      <td>Barry Sonnenfeld</td>\n",
       "      <td>Kevin Spacey, Jennifer Garner, Robbie Amell,Ch...</td>\n",
       "      <td>2016</td>\n",
       "      <td>87</td>\n",
       "      <td>5.3</td>\n",
       "      <td>12435</td>\n",
       "      <td>19.64</td>\n",
       "      <td>11.0</td>\n",
       "    </tr>\n",
       "  </tbody>\n",
       "</table>\n",
       "</div>"
      ],
      "text/plain": [
       "     Rank         Title                  Genre  \\\n",
       "998   999  Search Party       Adventure,Comedy   \n",
       "999  1000    Nine Lives  Comedy,Family,Fantasy   \n",
       "\n",
       "                                           Description          Director  \\\n",
       "998  A pair of friends embark on a mission to reuni...    Scot Armstrong   \n",
       "999  A stuffy businessman finds himself trapped ins...  Barry Sonnenfeld   \n",
       "\n",
       "                                                Actors  Year  \\\n",
       "998  Adam Pally, T.J. Miller, Thomas Middleditch,Sh...  2014   \n",
       "999  Kevin Spacey, Jennifer Garner, Robbie Amell,Ch...  2016   \n",
       "\n",
       "     Runtime (Minutes)  Rating  Votes  Revenue (Millions)  Metascore  \n",
       "998                 93     5.6   4881                 NaN       22.0  \n",
       "999                 87     5.3  12435               19.64       11.0  "
      ]
     },
     "execution_count": 21,
     "metadata": {},
     "output_type": "execute_result"
    }
   ],
   "source": [
    "moviedf.tail(2)"
   ]
  },
  {
   "cell_type": "code",
   "execution_count": 22,
   "id": "bb91d90c",
   "metadata": {},
   "outputs": [
    {
     "data": {
      "text/plain": [
       "Rank                  1000\n",
       "Title                 1000\n",
       "Genre                 1000\n",
       "Description           1000\n",
       "Director              1000\n",
       "Actors                1000\n",
       "Year                  1000\n",
       "Runtime (Minutes)     1000\n",
       "Rating                1000\n",
       "Votes                 1000\n",
       "Revenue (Millions)     872\n",
       "Metascore              936\n",
       "dtype: int64"
      ]
     },
     "execution_count": 22,
     "metadata": {},
     "output_type": "execute_result"
    }
   ],
   "source": [
    "moviedf.count()"
   ]
  },
  {
   "cell_type": "code",
   "execution_count": 23,
   "id": "d35db7d8",
   "metadata": {},
   "outputs": [
    {
     "data": {
      "text/plain": [
       "(1000, 12)"
      ]
     },
     "execution_count": 23,
     "metadata": {},
     "output_type": "execute_result"
    }
   ],
   "source": [
    "moviedf.shape"
   ]
  },
  {
   "cell_type": "code",
   "execution_count": 24,
   "id": "41fb792c",
   "metadata": {},
   "outputs": [],
   "source": [
    "movieduplicate = moviedf.copy()"
   ]
  },
  {
   "cell_type": "code",
   "execution_count": 25,
   "id": "f9522db2",
   "metadata": {},
   "outputs": [
    {
     "data": {
      "text/plain": [
       "(1000, 12)"
      ]
     },
     "execution_count": 25,
     "metadata": {},
     "output_type": "execute_result"
    }
   ],
   "source": [
    "movieduplicate.shape"
   ]
  },
  {
   "cell_type": "code",
   "execution_count": 26,
   "id": "23693ff8",
   "metadata": {},
   "outputs": [
    {
     "name": "stderr",
     "output_type": "stream",
     "text": [
      "/tmp/ipykernel_2195/826871871.py:1: FutureWarning: The frame.append method is deprecated and will be removed from pandas in a future version. Use pandas.concat instead.\n",
      "  movieduplicate = movieduplicate.append(moviedf)\n"
     ]
    }
   ],
   "source": [
    "movieduplicate = movieduplicate.append(moviedf)"
   ]
  },
  {
   "cell_type": "code",
   "execution_count": 27,
   "id": "b43a94b0",
   "metadata": {},
   "outputs": [
    {
     "data": {
      "text/plain": [
       "(2000, 12)"
      ]
     },
     "execution_count": 27,
     "metadata": {},
     "output_type": "execute_result"
    }
   ],
   "source": [
    "movieduplicate.shape"
   ]
  },
  {
   "cell_type": "code",
   "execution_count": 28,
   "id": "2972c459",
   "metadata": {},
   "outputs": [],
   "source": [
    "movieduplicate=movieduplicate.drop_duplicates()"
   ]
  },
  {
   "cell_type": "code",
   "execution_count": 29,
   "id": "f1311e4b",
   "metadata": {},
   "outputs": [
    {
     "data": {
      "text/plain": [
       "(1000, 12)"
      ]
     },
     "execution_count": 29,
     "metadata": {},
     "output_type": "execute_result"
    }
   ],
   "source": [
    "movieduplicate.shape"
   ]
  },
  {
   "cell_type": "code",
   "execution_count": 30,
   "id": "342c02e7",
   "metadata": {},
   "outputs": [
    {
     "data": {
      "text/plain": [
       "1000"
      ]
     },
     "execution_count": 30,
     "metadata": {},
     "output_type": "execute_result"
    }
   ],
   "source": [
    "moviedf[\"Genre\"].count()"
   ]
  },
  {
   "cell_type": "code",
   "execution_count": 31,
   "id": "bb0062b9",
   "metadata": {},
   "outputs": [
    {
     "data": {
      "text/plain": [
       "1000"
      ]
     },
     "execution_count": 31,
     "metadata": {},
     "output_type": "execute_result"
    }
   ],
   "source": [
    "movieduplicate[\"Genre\"].count()"
   ]
  },
  {
   "cell_type": "code",
   "execution_count": 32,
   "id": "2bf9cbd5",
   "metadata": {},
   "outputs": [
    {
     "data": {
      "text/plain": [
       "207"
      ]
     },
     "execution_count": 32,
     "metadata": {},
     "output_type": "execute_result"
    }
   ],
   "source": [
    "movieduplicate[\"Genre\"].drop_duplicates().count()"
   ]
  },
  {
   "cell_type": "code",
   "execution_count": 33,
   "id": "38d9d90c",
   "metadata": {},
   "outputs": [],
   "source": [
    "movieduplicate.drop_duplicates(inplace=True, keep='first')"
   ]
  },
  {
   "cell_type": "code",
   "execution_count": 34,
   "id": "0b89c4a6",
   "metadata": {},
   "outputs": [
    {
     "data": {
      "text/plain": [
       "Index(['Rank', 'Title', 'Genre', 'Description', 'Director', 'Actors', 'Year',\n",
       "       'Runtime (Minutes)', 'Rating', 'Votes', 'Revenue (Millions)',\n",
       "       'Metascore'],\n",
       "      dtype='object')"
      ]
     },
     "execution_count": 34,
     "metadata": {},
     "output_type": "execute_result"
    }
   ],
   "source": [
    "moviedf.columns"
   ]
  },
  {
   "cell_type": "code",
   "execution_count": 35,
   "id": "1d34baa5",
   "metadata": {},
   "outputs": [],
   "source": [
    "moviedf.rename(columns={'Runtime (Minutes)' : 'Runtime',\n",
    "                       'Revenue (Millions)' : 'Revenue_millions'}, inplace=True)"
   ]
  },
  {
   "cell_type": "code",
   "execution_count": 36,
   "id": "7be3c734",
   "metadata": {},
   "outputs": [
    {
     "data": {
      "text/plain": [
       "Index(['Rank', 'Title', 'Genre', 'Description', 'Director', 'Actors', 'Year',\n",
       "       'Runtime', 'Rating', 'Votes', 'Revenue_millions', 'Metascore'],\n",
       "      dtype='object')"
      ]
     },
     "execution_count": 36,
     "metadata": {},
     "output_type": "execute_result"
    }
   ],
   "source": [
    "moviedf.columns"
   ]
  },
  {
   "cell_type": "code",
   "execution_count": 37,
   "id": "da05a4c0",
   "metadata": {},
   "outputs": [
    {
     "data": {
      "text/plain": [
       "Index(['rank', 'title', 'genre', 'description', 'director', 'actors', 'year',\n",
       "       'runtime', 'rating', 'votes', 'revenue_millions', 'metascore'],\n",
       "      dtype='object')"
      ]
     },
     "execution_count": 37,
     "metadata": {},
     "output_type": "execute_result"
    }
   ],
   "source": [
    "moviedf.columns = [col.lower() for col in moviedf]\n",
    "moviedf.columns"
   ]
  },
  {
   "cell_type": "code",
   "execution_count": 38,
   "id": "a85d45b4",
   "metadata": {},
   "outputs": [
    {
     "data": {
      "text/html": [
       "<div>\n",
       "<style scoped>\n",
       "    .dataframe tbody tr th:only-of-type {\n",
       "        vertical-align: middle;\n",
       "    }\n",
       "\n",
       "    .dataframe tbody tr th {\n",
       "        vertical-align: top;\n",
       "    }\n",
       "\n",
       "    .dataframe thead th {\n",
       "        text-align: right;\n",
       "    }\n",
       "</style>\n",
       "<table border=\"1\" class=\"dataframe\">\n",
       "  <thead>\n",
       "    <tr style=\"text-align: right;\">\n",
       "      <th></th>\n",
       "      <th>rank</th>\n",
       "      <th>title</th>\n",
       "      <th>genre</th>\n",
       "      <th>description</th>\n",
       "      <th>director</th>\n",
       "      <th>actors</th>\n",
       "      <th>year</th>\n",
       "      <th>runtime</th>\n",
       "      <th>rating</th>\n",
       "      <th>votes</th>\n",
       "      <th>revenue_millions</th>\n",
       "      <th>metascore</th>\n",
       "    </tr>\n",
       "  </thead>\n",
       "  <tbody>\n",
       "    <tr>\n",
       "      <th>0</th>\n",
       "      <td>False</td>\n",
       "      <td>False</td>\n",
       "      <td>False</td>\n",
       "      <td>False</td>\n",
       "      <td>False</td>\n",
       "      <td>False</td>\n",
       "      <td>False</td>\n",
       "      <td>False</td>\n",
       "      <td>False</td>\n",
       "      <td>False</td>\n",
       "      <td>False</td>\n",
       "      <td>False</td>\n",
       "    </tr>\n",
       "    <tr>\n",
       "      <th>1</th>\n",
       "      <td>False</td>\n",
       "      <td>False</td>\n",
       "      <td>False</td>\n",
       "      <td>False</td>\n",
       "      <td>False</td>\n",
       "      <td>False</td>\n",
       "      <td>False</td>\n",
       "      <td>False</td>\n",
       "      <td>False</td>\n",
       "      <td>False</td>\n",
       "      <td>False</td>\n",
       "      <td>False</td>\n",
       "    </tr>\n",
       "    <tr>\n",
       "      <th>2</th>\n",
       "      <td>False</td>\n",
       "      <td>False</td>\n",
       "      <td>False</td>\n",
       "      <td>False</td>\n",
       "      <td>False</td>\n",
       "      <td>False</td>\n",
       "      <td>False</td>\n",
       "      <td>False</td>\n",
       "      <td>False</td>\n",
       "      <td>False</td>\n",
       "      <td>False</td>\n",
       "      <td>False</td>\n",
       "    </tr>\n",
       "    <tr>\n",
       "      <th>3</th>\n",
       "      <td>False</td>\n",
       "      <td>False</td>\n",
       "      <td>False</td>\n",
       "      <td>False</td>\n",
       "      <td>False</td>\n",
       "      <td>False</td>\n",
       "      <td>False</td>\n",
       "      <td>False</td>\n",
       "      <td>False</td>\n",
       "      <td>False</td>\n",
       "      <td>False</td>\n",
       "      <td>False</td>\n",
       "    </tr>\n",
       "    <tr>\n",
       "      <th>4</th>\n",
       "      <td>False</td>\n",
       "      <td>False</td>\n",
       "      <td>False</td>\n",
       "      <td>False</td>\n",
       "      <td>False</td>\n",
       "      <td>False</td>\n",
       "      <td>False</td>\n",
       "      <td>False</td>\n",
       "      <td>False</td>\n",
       "      <td>False</td>\n",
       "      <td>False</td>\n",
       "      <td>False</td>\n",
       "    </tr>\n",
       "    <tr>\n",
       "      <th>...</th>\n",
       "      <td>...</td>\n",
       "      <td>...</td>\n",
       "      <td>...</td>\n",
       "      <td>...</td>\n",
       "      <td>...</td>\n",
       "      <td>...</td>\n",
       "      <td>...</td>\n",
       "      <td>...</td>\n",
       "      <td>...</td>\n",
       "      <td>...</td>\n",
       "      <td>...</td>\n",
       "      <td>...</td>\n",
       "    </tr>\n",
       "    <tr>\n",
       "      <th>995</th>\n",
       "      <td>False</td>\n",
       "      <td>False</td>\n",
       "      <td>False</td>\n",
       "      <td>False</td>\n",
       "      <td>False</td>\n",
       "      <td>False</td>\n",
       "      <td>False</td>\n",
       "      <td>False</td>\n",
       "      <td>False</td>\n",
       "      <td>False</td>\n",
       "      <td>True</td>\n",
       "      <td>False</td>\n",
       "    </tr>\n",
       "    <tr>\n",
       "      <th>996</th>\n",
       "      <td>False</td>\n",
       "      <td>False</td>\n",
       "      <td>False</td>\n",
       "      <td>False</td>\n",
       "      <td>False</td>\n",
       "      <td>False</td>\n",
       "      <td>False</td>\n",
       "      <td>False</td>\n",
       "      <td>False</td>\n",
       "      <td>False</td>\n",
       "      <td>False</td>\n",
       "      <td>False</td>\n",
       "    </tr>\n",
       "    <tr>\n",
       "      <th>997</th>\n",
       "      <td>False</td>\n",
       "      <td>False</td>\n",
       "      <td>False</td>\n",
       "      <td>False</td>\n",
       "      <td>False</td>\n",
       "      <td>False</td>\n",
       "      <td>False</td>\n",
       "      <td>False</td>\n",
       "      <td>False</td>\n",
       "      <td>False</td>\n",
       "      <td>False</td>\n",
       "      <td>False</td>\n",
       "    </tr>\n",
       "    <tr>\n",
       "      <th>998</th>\n",
       "      <td>False</td>\n",
       "      <td>False</td>\n",
       "      <td>False</td>\n",
       "      <td>False</td>\n",
       "      <td>False</td>\n",
       "      <td>False</td>\n",
       "      <td>False</td>\n",
       "      <td>False</td>\n",
       "      <td>False</td>\n",
       "      <td>False</td>\n",
       "      <td>True</td>\n",
       "      <td>False</td>\n",
       "    </tr>\n",
       "    <tr>\n",
       "      <th>999</th>\n",
       "      <td>False</td>\n",
       "      <td>False</td>\n",
       "      <td>False</td>\n",
       "      <td>False</td>\n",
       "      <td>False</td>\n",
       "      <td>False</td>\n",
       "      <td>False</td>\n",
       "      <td>False</td>\n",
       "      <td>False</td>\n",
       "      <td>False</td>\n",
       "      <td>False</td>\n",
       "      <td>False</td>\n",
       "    </tr>\n",
       "  </tbody>\n",
       "</table>\n",
       "<p>1000 rows × 12 columns</p>\n",
       "</div>"
      ],
      "text/plain": [
       "      rank  title  genre  description  director  actors   year  runtime  \\\n",
       "0    False  False  False        False     False   False  False    False   \n",
       "1    False  False  False        False     False   False  False    False   \n",
       "2    False  False  False        False     False   False  False    False   \n",
       "3    False  False  False        False     False   False  False    False   \n",
       "4    False  False  False        False     False   False  False    False   \n",
       "..     ...    ...    ...          ...       ...     ...    ...      ...   \n",
       "995  False  False  False        False     False   False  False    False   \n",
       "996  False  False  False        False     False   False  False    False   \n",
       "997  False  False  False        False     False   False  False    False   \n",
       "998  False  False  False        False     False   False  False    False   \n",
       "999  False  False  False        False     False   False  False    False   \n",
       "\n",
       "     rating  votes  revenue_millions  metascore  \n",
       "0     False  False             False      False  \n",
       "1     False  False             False      False  \n",
       "2     False  False             False      False  \n",
       "3     False  False             False      False  \n",
       "4     False  False             False      False  \n",
       "..      ...    ...               ...        ...  \n",
       "995   False  False              True      False  \n",
       "996   False  False             False      False  \n",
       "997   False  False             False      False  \n",
       "998   False  False              True      False  \n",
       "999   False  False             False      False  \n",
       "\n",
       "[1000 rows x 12 columns]"
      ]
     },
     "execution_count": 38,
     "metadata": {},
     "output_type": "execute_result"
    }
   ],
   "source": [
    "moviedf.isnull()"
   ]
  },
  {
   "cell_type": "code",
   "execution_count": 39,
   "id": "b80bc688",
   "metadata": {},
   "outputs": [
    {
     "data": {
      "text/plain": [
       "rank                  0\n",
       "title                 0\n",
       "genre                 0\n",
       "description           0\n",
       "director              0\n",
       "actors                0\n",
       "year                  0\n",
       "runtime               0\n",
       "rating                0\n",
       "votes                 0\n",
       "revenue_millions    128\n",
       "metascore            64\n",
       "dtype: int64"
      ]
     },
     "execution_count": 39,
     "metadata": {},
     "output_type": "execute_result"
    }
   ],
   "source": [
    "moviedf.isnull().sum()"
   ]
  },
  {
   "cell_type": "code",
   "execution_count": 40,
   "id": "0ea51398",
   "metadata": {},
   "outputs": [
    {
     "data": {
      "text/html": [
       "<div>\n",
       "<style scoped>\n",
       "    .dataframe tbody tr th:only-of-type {\n",
       "        vertical-align: middle;\n",
       "    }\n",
       "\n",
       "    .dataframe tbody tr th {\n",
       "        vertical-align: top;\n",
       "    }\n",
       "\n",
       "    .dataframe thead th {\n",
       "        text-align: right;\n",
       "    }\n",
       "</style>\n",
       "<table border=\"1\" class=\"dataframe\">\n",
       "  <thead>\n",
       "    <tr style=\"text-align: right;\">\n",
       "      <th></th>\n",
       "      <th>rank</th>\n",
       "      <th>title</th>\n",
       "      <th>genre</th>\n",
       "      <th>description</th>\n",
       "      <th>director</th>\n",
       "      <th>actors</th>\n",
       "      <th>year</th>\n",
       "      <th>runtime</th>\n",
       "      <th>rating</th>\n",
       "      <th>votes</th>\n",
       "      <th>revenue_millions</th>\n",
       "      <th>metascore</th>\n",
       "    </tr>\n",
       "  </thead>\n",
       "  <tbody>\n",
       "    <tr>\n",
       "      <th>0</th>\n",
       "      <td>1</td>\n",
       "      <td>Guardians of the Galaxy</td>\n",
       "      <td>Action,Adventure,Sci-Fi</td>\n",
       "      <td>A group of intergalactic criminals are forced ...</td>\n",
       "      <td>James Gunn</td>\n",
       "      <td>Chris Pratt, Vin Diesel, Bradley Cooper, Zoe S...</td>\n",
       "      <td>2014</td>\n",
       "      <td>121</td>\n",
       "      <td>8.1</td>\n",
       "      <td>757074</td>\n",
       "      <td>333.13</td>\n",
       "      <td>76.0</td>\n",
       "    </tr>\n",
       "    <tr>\n",
       "      <th>1</th>\n",
       "      <td>2</td>\n",
       "      <td>Prometheus</td>\n",
       "      <td>Adventure,Mystery,Sci-Fi</td>\n",
       "      <td>Following clues to the origin of mankind, a te...</td>\n",
       "      <td>Ridley Scott</td>\n",
       "      <td>Noomi Rapace, Logan Marshall-Green, Michael Fa...</td>\n",
       "      <td>2012</td>\n",
       "      <td>124</td>\n",
       "      <td>7.0</td>\n",
       "      <td>485820</td>\n",
       "      <td>126.46</td>\n",
       "      <td>65.0</td>\n",
       "    </tr>\n",
       "    <tr>\n",
       "      <th>2</th>\n",
       "      <td>3</td>\n",
       "      <td>Split</td>\n",
       "      <td>Horror,Thriller</td>\n",
       "      <td>Three girls are kidnapped by a man with a diag...</td>\n",
       "      <td>M. Night Shyamalan</td>\n",
       "      <td>James McAvoy, Anya Taylor-Joy, Haley Lu Richar...</td>\n",
       "      <td>2016</td>\n",
       "      <td>117</td>\n",
       "      <td>7.3</td>\n",
       "      <td>157606</td>\n",
       "      <td>138.12</td>\n",
       "      <td>62.0</td>\n",
       "    </tr>\n",
       "    <tr>\n",
       "      <th>3</th>\n",
       "      <td>4</td>\n",
       "      <td>Sing</td>\n",
       "      <td>Animation,Comedy,Family</td>\n",
       "      <td>In a city of humanoid animals, a hustling thea...</td>\n",
       "      <td>Christophe Lourdelet</td>\n",
       "      <td>Matthew McConaughey,Reese Witherspoon, Seth Ma...</td>\n",
       "      <td>2016</td>\n",
       "      <td>108</td>\n",
       "      <td>7.2</td>\n",
       "      <td>60545</td>\n",
       "      <td>270.32</td>\n",
       "      <td>59.0</td>\n",
       "    </tr>\n",
       "    <tr>\n",
       "      <th>4</th>\n",
       "      <td>5</td>\n",
       "      <td>Suicide Squad</td>\n",
       "      <td>Action,Adventure,Fantasy</td>\n",
       "      <td>A secret government agency recruits some of th...</td>\n",
       "      <td>David Ayer</td>\n",
       "      <td>Will Smith, Jared Leto, Margot Robbie, Viola D...</td>\n",
       "      <td>2016</td>\n",
       "      <td>123</td>\n",
       "      <td>6.2</td>\n",
       "      <td>393727</td>\n",
       "      <td>325.02</td>\n",
       "      <td>40.0</td>\n",
       "    </tr>\n",
       "    <tr>\n",
       "      <th>...</th>\n",
       "      <td>...</td>\n",
       "      <td>...</td>\n",
       "      <td>...</td>\n",
       "      <td>...</td>\n",
       "      <td>...</td>\n",
       "      <td>...</td>\n",
       "      <td>...</td>\n",
       "      <td>...</td>\n",
       "      <td>...</td>\n",
       "      <td>...</td>\n",
       "      <td>...</td>\n",
       "      <td>...</td>\n",
       "    </tr>\n",
       "    <tr>\n",
       "      <th>993</th>\n",
       "      <td>994</td>\n",
       "      <td>Resident Evil: Afterlife</td>\n",
       "      <td>Action,Adventure,Horror</td>\n",
       "      <td>While still out to destroy the evil Umbrella C...</td>\n",
       "      <td>Paul W.S. Anderson</td>\n",
       "      <td>Milla Jovovich, Ali Larter, Wentworth Miller,K...</td>\n",
       "      <td>2010</td>\n",
       "      <td>97</td>\n",
       "      <td>5.9</td>\n",
       "      <td>140900</td>\n",
       "      <td>60.13</td>\n",
       "      <td>37.0</td>\n",
       "    </tr>\n",
       "    <tr>\n",
       "      <th>994</th>\n",
       "      <td>995</td>\n",
       "      <td>Project X</td>\n",
       "      <td>Comedy</td>\n",
       "      <td>3 high school seniors throw a birthday party t...</td>\n",
       "      <td>Nima Nourizadeh</td>\n",
       "      <td>Thomas Mann, Oliver Cooper, Jonathan Daniel Br...</td>\n",
       "      <td>2012</td>\n",
       "      <td>88</td>\n",
       "      <td>6.7</td>\n",
       "      <td>164088</td>\n",
       "      <td>54.72</td>\n",
       "      <td>48.0</td>\n",
       "    </tr>\n",
       "    <tr>\n",
       "      <th>996</th>\n",
       "      <td>997</td>\n",
       "      <td>Hostel: Part II</td>\n",
       "      <td>Horror</td>\n",
       "      <td>Three American college students studying abroa...</td>\n",
       "      <td>Eli Roth</td>\n",
       "      <td>Lauren German, Heather Matarazzo, Bijou Philli...</td>\n",
       "      <td>2007</td>\n",
       "      <td>94</td>\n",
       "      <td>5.5</td>\n",
       "      <td>73152</td>\n",
       "      <td>17.54</td>\n",
       "      <td>46.0</td>\n",
       "    </tr>\n",
       "    <tr>\n",
       "      <th>997</th>\n",
       "      <td>998</td>\n",
       "      <td>Step Up 2: The Streets</td>\n",
       "      <td>Drama,Music,Romance</td>\n",
       "      <td>Romantic sparks occur between two dance studen...</td>\n",
       "      <td>Jon M. Chu</td>\n",
       "      <td>Robert Hoffman, Briana Evigan, Cassie Ventura,...</td>\n",
       "      <td>2008</td>\n",
       "      <td>98</td>\n",
       "      <td>6.2</td>\n",
       "      <td>70699</td>\n",
       "      <td>58.01</td>\n",
       "      <td>50.0</td>\n",
       "    </tr>\n",
       "    <tr>\n",
       "      <th>999</th>\n",
       "      <td>1000</td>\n",
       "      <td>Nine Lives</td>\n",
       "      <td>Comedy,Family,Fantasy</td>\n",
       "      <td>A stuffy businessman finds himself trapped ins...</td>\n",
       "      <td>Barry Sonnenfeld</td>\n",
       "      <td>Kevin Spacey, Jennifer Garner, Robbie Amell,Ch...</td>\n",
       "      <td>2016</td>\n",
       "      <td>87</td>\n",
       "      <td>5.3</td>\n",
       "      <td>12435</td>\n",
       "      <td>19.64</td>\n",
       "      <td>11.0</td>\n",
       "    </tr>\n",
       "  </tbody>\n",
       "</table>\n",
       "<p>838 rows × 12 columns</p>\n",
       "</div>"
      ],
      "text/plain": [
       "     rank                     title                     genre  \\\n",
       "0       1   Guardians of the Galaxy   Action,Adventure,Sci-Fi   \n",
       "1       2                Prometheus  Adventure,Mystery,Sci-Fi   \n",
       "2       3                     Split           Horror,Thriller   \n",
       "3       4                      Sing   Animation,Comedy,Family   \n",
       "4       5             Suicide Squad  Action,Adventure,Fantasy   \n",
       "..    ...                       ...                       ...   \n",
       "993   994  Resident Evil: Afterlife   Action,Adventure,Horror   \n",
       "994   995                 Project X                    Comedy   \n",
       "996   997           Hostel: Part II                    Horror   \n",
       "997   998    Step Up 2: The Streets       Drama,Music,Romance   \n",
       "999  1000                Nine Lives     Comedy,Family,Fantasy   \n",
       "\n",
       "                                           description              director  \\\n",
       "0    A group of intergalactic criminals are forced ...            James Gunn   \n",
       "1    Following clues to the origin of mankind, a te...          Ridley Scott   \n",
       "2    Three girls are kidnapped by a man with a diag...    M. Night Shyamalan   \n",
       "3    In a city of humanoid animals, a hustling thea...  Christophe Lourdelet   \n",
       "4    A secret government agency recruits some of th...            David Ayer   \n",
       "..                                                 ...                   ...   \n",
       "993  While still out to destroy the evil Umbrella C...    Paul W.S. Anderson   \n",
       "994  3 high school seniors throw a birthday party t...       Nima Nourizadeh   \n",
       "996  Three American college students studying abroa...              Eli Roth   \n",
       "997  Romantic sparks occur between two dance studen...            Jon M. Chu   \n",
       "999  A stuffy businessman finds himself trapped ins...      Barry Sonnenfeld   \n",
       "\n",
       "                                                actors  year  runtime  rating  \\\n",
       "0    Chris Pratt, Vin Diesel, Bradley Cooper, Zoe S...  2014      121     8.1   \n",
       "1    Noomi Rapace, Logan Marshall-Green, Michael Fa...  2012      124     7.0   \n",
       "2    James McAvoy, Anya Taylor-Joy, Haley Lu Richar...  2016      117     7.3   \n",
       "3    Matthew McConaughey,Reese Witherspoon, Seth Ma...  2016      108     7.2   \n",
       "4    Will Smith, Jared Leto, Margot Robbie, Viola D...  2016      123     6.2   \n",
       "..                                                 ...   ...      ...     ...   \n",
       "993  Milla Jovovich, Ali Larter, Wentworth Miller,K...  2010       97     5.9   \n",
       "994  Thomas Mann, Oliver Cooper, Jonathan Daniel Br...  2012       88     6.7   \n",
       "996  Lauren German, Heather Matarazzo, Bijou Philli...  2007       94     5.5   \n",
       "997  Robert Hoffman, Briana Evigan, Cassie Ventura,...  2008       98     6.2   \n",
       "999  Kevin Spacey, Jennifer Garner, Robbie Amell,Ch...  2016       87     5.3   \n",
       "\n",
       "      votes  revenue_millions  metascore  \n",
       "0    757074            333.13       76.0  \n",
       "1    485820            126.46       65.0  \n",
       "2    157606            138.12       62.0  \n",
       "3     60545            270.32       59.0  \n",
       "4    393727            325.02       40.0  \n",
       "..      ...               ...        ...  \n",
       "993  140900             60.13       37.0  \n",
       "994  164088             54.72       48.0  \n",
       "996   73152             17.54       46.0  \n",
       "997   70699             58.01       50.0  \n",
       "999   12435             19.64       11.0  \n",
       "\n",
       "[838 rows x 12 columns]"
      ]
     },
     "execution_count": 40,
     "metadata": {},
     "output_type": "execute_result"
    }
   ],
   "source": [
    "moviedf.dropna()"
   ]
  },
  {
   "cell_type": "code",
   "execution_count": 41,
   "id": "62edbeae",
   "metadata": {
    "scrolled": true
   },
   "outputs": [
    {
     "data": {
      "text/html": [
       "<div>\n",
       "<style scoped>\n",
       "    .dataframe tbody tr th:only-of-type {\n",
       "        vertical-align: middle;\n",
       "    }\n",
       "\n",
       "    .dataframe tbody tr th {\n",
       "        vertical-align: top;\n",
       "    }\n",
       "\n",
       "    .dataframe thead th {\n",
       "        text-align: right;\n",
       "    }\n",
       "</style>\n",
       "<table border=\"1\" class=\"dataframe\">\n",
       "  <thead>\n",
       "    <tr style=\"text-align: right;\">\n",
       "      <th></th>\n",
       "      <th>rank</th>\n",
       "      <th>title</th>\n",
       "      <th>genre</th>\n",
       "      <th>description</th>\n",
       "      <th>director</th>\n",
       "      <th>actors</th>\n",
       "      <th>year</th>\n",
       "      <th>runtime</th>\n",
       "      <th>rating</th>\n",
       "      <th>votes</th>\n",
       "      <th>revenue_millions</th>\n",
       "      <th>metascore</th>\n",
       "    </tr>\n",
       "  </thead>\n",
       "  <tbody>\n",
       "    <tr>\n",
       "      <th>0</th>\n",
       "      <td>1</td>\n",
       "      <td>Guardians of the Galaxy</td>\n",
       "      <td>Action,Adventure,Sci-Fi</td>\n",
       "      <td>A group of intergalactic criminals are forced ...</td>\n",
       "      <td>James Gunn</td>\n",
       "      <td>Chris Pratt, Vin Diesel, Bradley Cooper, Zoe S...</td>\n",
       "      <td>2014</td>\n",
       "      <td>121</td>\n",
       "      <td>8.1</td>\n",
       "      <td>757074</td>\n",
       "      <td>333.13</td>\n",
       "      <td>76.0</td>\n",
       "    </tr>\n",
       "    <tr>\n",
       "      <th>1</th>\n",
       "      <td>2</td>\n",
       "      <td>Prometheus</td>\n",
       "      <td>Adventure,Mystery,Sci-Fi</td>\n",
       "      <td>Following clues to the origin of mankind, a te...</td>\n",
       "      <td>Ridley Scott</td>\n",
       "      <td>Noomi Rapace, Logan Marshall-Green, Michael Fa...</td>\n",
       "      <td>2012</td>\n",
       "      <td>124</td>\n",
       "      <td>7.0</td>\n",
       "      <td>485820</td>\n",
       "      <td>126.46</td>\n",
       "      <td>65.0</td>\n",
       "    </tr>\n",
       "    <tr>\n",
       "      <th>2</th>\n",
       "      <td>3</td>\n",
       "      <td>Split</td>\n",
       "      <td>Horror,Thriller</td>\n",
       "      <td>Three girls are kidnapped by a man with a diag...</td>\n",
       "      <td>M. Night Shyamalan</td>\n",
       "      <td>James McAvoy, Anya Taylor-Joy, Haley Lu Richar...</td>\n",
       "      <td>2016</td>\n",
       "      <td>117</td>\n",
       "      <td>7.3</td>\n",
       "      <td>157606</td>\n",
       "      <td>138.12</td>\n",
       "      <td>62.0</td>\n",
       "    </tr>\n",
       "    <tr>\n",
       "      <th>3</th>\n",
       "      <td>4</td>\n",
       "      <td>Sing</td>\n",
       "      <td>Animation,Comedy,Family</td>\n",
       "      <td>In a city of humanoid animals, a hustling thea...</td>\n",
       "      <td>Christophe Lourdelet</td>\n",
       "      <td>Matthew McConaughey,Reese Witherspoon, Seth Ma...</td>\n",
       "      <td>2016</td>\n",
       "      <td>108</td>\n",
       "      <td>7.2</td>\n",
       "      <td>60545</td>\n",
       "      <td>270.32</td>\n",
       "      <td>59.0</td>\n",
       "    </tr>\n",
       "    <tr>\n",
       "      <th>4</th>\n",
       "      <td>5</td>\n",
       "      <td>Suicide Squad</td>\n",
       "      <td>Action,Adventure,Fantasy</td>\n",
       "      <td>A secret government agency recruits some of th...</td>\n",
       "      <td>David Ayer</td>\n",
       "      <td>Will Smith, Jared Leto, Margot Robbie, Viola D...</td>\n",
       "      <td>2016</td>\n",
       "      <td>123</td>\n",
       "      <td>6.2</td>\n",
       "      <td>393727</td>\n",
       "      <td>325.02</td>\n",
       "      <td>40.0</td>\n",
       "    </tr>\n",
       "    <tr>\n",
       "      <th>...</th>\n",
       "      <td>...</td>\n",
       "      <td>...</td>\n",
       "      <td>...</td>\n",
       "      <td>...</td>\n",
       "      <td>...</td>\n",
       "      <td>...</td>\n",
       "      <td>...</td>\n",
       "      <td>...</td>\n",
       "      <td>...</td>\n",
       "      <td>...</td>\n",
       "      <td>...</td>\n",
       "      <td>...</td>\n",
       "    </tr>\n",
       "    <tr>\n",
       "      <th>995</th>\n",
       "      <td>996</td>\n",
       "      <td>Secret in Their Eyes</td>\n",
       "      <td>Crime,Drama,Mystery</td>\n",
       "      <td>A tight-knit team of rising investigators, alo...</td>\n",
       "      <td>Billy Ray</td>\n",
       "      <td>Chiwetel Ejiofor, Nicole Kidman, Julia Roberts...</td>\n",
       "      <td>2015</td>\n",
       "      <td>111</td>\n",
       "      <td>6.2</td>\n",
       "      <td>27585</td>\n",
       "      <td>54.72</td>\n",
       "      <td>45.0</td>\n",
       "    </tr>\n",
       "    <tr>\n",
       "      <th>996</th>\n",
       "      <td>997</td>\n",
       "      <td>Hostel: Part II</td>\n",
       "      <td>Horror</td>\n",
       "      <td>Three American college students studying abroa...</td>\n",
       "      <td>Eli Roth</td>\n",
       "      <td>Lauren German, Heather Matarazzo, Bijou Philli...</td>\n",
       "      <td>2007</td>\n",
       "      <td>94</td>\n",
       "      <td>5.5</td>\n",
       "      <td>73152</td>\n",
       "      <td>17.54</td>\n",
       "      <td>46.0</td>\n",
       "    </tr>\n",
       "    <tr>\n",
       "      <th>997</th>\n",
       "      <td>998</td>\n",
       "      <td>Step Up 2: The Streets</td>\n",
       "      <td>Drama,Music,Romance</td>\n",
       "      <td>Romantic sparks occur between two dance studen...</td>\n",
       "      <td>Jon M. Chu</td>\n",
       "      <td>Robert Hoffman, Briana Evigan, Cassie Ventura,...</td>\n",
       "      <td>2008</td>\n",
       "      <td>98</td>\n",
       "      <td>6.2</td>\n",
       "      <td>70699</td>\n",
       "      <td>58.01</td>\n",
       "      <td>50.0</td>\n",
       "    </tr>\n",
       "    <tr>\n",
       "      <th>998</th>\n",
       "      <td>999</td>\n",
       "      <td>Search Party</td>\n",
       "      <td>Adventure,Comedy</td>\n",
       "      <td>A pair of friends embark on a mission to reuni...</td>\n",
       "      <td>Scot Armstrong</td>\n",
       "      <td>Adam Pally, T.J. Miller, Thomas Middleditch,Sh...</td>\n",
       "      <td>2014</td>\n",
       "      <td>93</td>\n",
       "      <td>5.6</td>\n",
       "      <td>4881</td>\n",
       "      <td>58.01</td>\n",
       "      <td>22.0</td>\n",
       "    </tr>\n",
       "    <tr>\n",
       "      <th>999</th>\n",
       "      <td>1000</td>\n",
       "      <td>Nine Lives</td>\n",
       "      <td>Comedy,Family,Fantasy</td>\n",
       "      <td>A stuffy businessman finds himself trapped ins...</td>\n",
       "      <td>Barry Sonnenfeld</td>\n",
       "      <td>Kevin Spacey, Jennifer Garner, Robbie Amell,Ch...</td>\n",
       "      <td>2016</td>\n",
       "      <td>87</td>\n",
       "      <td>5.3</td>\n",
       "      <td>12435</td>\n",
       "      <td>19.64</td>\n",
       "      <td>11.0</td>\n",
       "    </tr>\n",
       "  </tbody>\n",
       "</table>\n",
       "<p>1000 rows × 12 columns</p>\n",
       "</div>"
      ],
      "text/plain": [
       "     rank                    title                     genre  \\\n",
       "0       1  Guardians of the Galaxy   Action,Adventure,Sci-Fi   \n",
       "1       2               Prometheus  Adventure,Mystery,Sci-Fi   \n",
       "2       3                    Split           Horror,Thriller   \n",
       "3       4                     Sing   Animation,Comedy,Family   \n",
       "4       5            Suicide Squad  Action,Adventure,Fantasy   \n",
       "..    ...                      ...                       ...   \n",
       "995   996     Secret in Their Eyes       Crime,Drama,Mystery   \n",
       "996   997          Hostel: Part II                    Horror   \n",
       "997   998   Step Up 2: The Streets       Drama,Music,Romance   \n",
       "998   999             Search Party          Adventure,Comedy   \n",
       "999  1000               Nine Lives     Comedy,Family,Fantasy   \n",
       "\n",
       "                                           description              director  \\\n",
       "0    A group of intergalactic criminals are forced ...            James Gunn   \n",
       "1    Following clues to the origin of mankind, a te...          Ridley Scott   \n",
       "2    Three girls are kidnapped by a man with a diag...    M. Night Shyamalan   \n",
       "3    In a city of humanoid animals, a hustling thea...  Christophe Lourdelet   \n",
       "4    A secret government agency recruits some of th...            David Ayer   \n",
       "..                                                 ...                   ...   \n",
       "995  A tight-knit team of rising investigators, alo...             Billy Ray   \n",
       "996  Three American college students studying abroa...              Eli Roth   \n",
       "997  Romantic sparks occur between two dance studen...            Jon M. Chu   \n",
       "998  A pair of friends embark on a mission to reuni...        Scot Armstrong   \n",
       "999  A stuffy businessman finds himself trapped ins...      Barry Sonnenfeld   \n",
       "\n",
       "                                                actors  year  runtime  rating  \\\n",
       "0    Chris Pratt, Vin Diesel, Bradley Cooper, Zoe S...  2014      121     8.1   \n",
       "1    Noomi Rapace, Logan Marshall-Green, Michael Fa...  2012      124     7.0   \n",
       "2    James McAvoy, Anya Taylor-Joy, Haley Lu Richar...  2016      117     7.3   \n",
       "3    Matthew McConaughey,Reese Witherspoon, Seth Ma...  2016      108     7.2   \n",
       "4    Will Smith, Jared Leto, Margot Robbie, Viola D...  2016      123     6.2   \n",
       "..                                                 ...   ...      ...     ...   \n",
       "995  Chiwetel Ejiofor, Nicole Kidman, Julia Roberts...  2015      111     6.2   \n",
       "996  Lauren German, Heather Matarazzo, Bijou Philli...  2007       94     5.5   \n",
       "997  Robert Hoffman, Briana Evigan, Cassie Ventura,...  2008       98     6.2   \n",
       "998  Adam Pally, T.J. Miller, Thomas Middleditch,Sh...  2014       93     5.6   \n",
       "999  Kevin Spacey, Jennifer Garner, Robbie Amell,Ch...  2016       87     5.3   \n",
       "\n",
       "      votes  revenue_millions  metascore  \n",
       "0    757074            333.13       76.0  \n",
       "1    485820            126.46       65.0  \n",
       "2    157606            138.12       62.0  \n",
       "3     60545            270.32       59.0  \n",
       "4    393727            325.02       40.0  \n",
       "..      ...               ...        ...  \n",
       "995   27585             54.72       45.0  \n",
       "996   73152             17.54       46.0  \n",
       "997   70699             58.01       50.0  \n",
       "998    4881             58.01       22.0  \n",
       "999   12435             19.64       11.0  \n",
       "\n",
       "[1000 rows x 12 columns]"
      ]
     },
     "execution_count": 41,
     "metadata": {},
     "output_type": "execute_result"
    }
   ],
   "source": [
    "moviedf.replace()"
   ]
  },
  {
   "cell_type": "code",
   "execution_count": 42,
   "id": "63195df2",
   "metadata": {},
   "outputs": [
    {
     "data": {
      "text/plain": [
       "rank                  0\n",
       "title                 0\n",
       "genre                 0\n",
       "description           0\n",
       "director              0\n",
       "actors                0\n",
       "year                  0\n",
       "runtime               0\n",
       "rating                0\n",
       "votes                 0\n",
       "revenue_millions    128\n",
       "metascore            64\n",
       "dtype: int64"
      ]
     },
     "execution_count": 42,
     "metadata": {},
     "output_type": "execute_result"
    }
   ],
   "source": [
    "moviedf.isnull().sum()"
   ]
  },
  {
   "cell_type": "code",
   "execution_count": 43,
   "id": "11f4d442",
   "metadata": {},
   "outputs": [],
   "source": [
    "revenue = moviedf['revenue_millions']\n",
    "revenue_mean = revenue.mean()"
   ]
  },
  {
   "cell_type": "code",
   "execution_count": 44,
   "id": "b2823ae8",
   "metadata": {},
   "outputs": [],
   "source": [
    "revenue.fillna(revenue_mean, inplace=True)"
   ]
  },
  {
   "cell_type": "code",
   "execution_count": 45,
   "id": "b0017f3c",
   "metadata": {},
   "outputs": [
    {
     "data": {
      "text/plain": [
       "0      333.130000\n",
       "1      126.460000\n",
       "2      138.120000\n",
       "3      270.320000\n",
       "4      325.020000\n",
       "          ...    \n",
       "995     82.956376\n",
       "996     17.540000\n",
       "997     58.010000\n",
       "998     82.956376\n",
       "999     19.640000\n",
       "Name: revenue_millions, Length: 1000, dtype: float64"
      ]
     },
     "execution_count": 45,
     "metadata": {},
     "output_type": "execute_result"
    }
   ],
   "source": [
    "revenue"
   ]
  },
  {
   "cell_type": "code",
   "execution_count": 46,
   "id": "c3c29b86",
   "metadata": {},
   "outputs": [
    {
     "data": {
      "text/html": [
       "<div>\n",
       "<style scoped>\n",
       "    .dataframe tbody tr th:only-of-type {\n",
       "        vertical-align: middle;\n",
       "    }\n",
       "\n",
       "    .dataframe tbody tr th {\n",
       "        vertical-align: top;\n",
       "    }\n",
       "\n",
       "    .dataframe thead th {\n",
       "        text-align: right;\n",
       "    }\n",
       "</style>\n",
       "<table border=\"1\" class=\"dataframe\">\n",
       "  <thead>\n",
       "    <tr style=\"text-align: right;\">\n",
       "      <th></th>\n",
       "      <th>rank</th>\n",
       "      <th>year</th>\n",
       "      <th>runtime</th>\n",
       "      <th>rating</th>\n",
       "      <th>votes</th>\n",
       "      <th>revenue_millions</th>\n",
       "      <th>metascore</th>\n",
       "    </tr>\n",
       "  </thead>\n",
       "  <tbody>\n",
       "    <tr>\n",
       "      <th>count</th>\n",
       "      <td>1000.000000</td>\n",
       "      <td>1000.000000</td>\n",
       "      <td>1000.000000</td>\n",
       "      <td>1000.000000</td>\n",
       "      <td>1.000000e+03</td>\n",
       "      <td>1000.000000</td>\n",
       "      <td>936.000000</td>\n",
       "    </tr>\n",
       "    <tr>\n",
       "      <th>mean</th>\n",
       "      <td>500.500000</td>\n",
       "      <td>2012.783000</td>\n",
       "      <td>113.172000</td>\n",
       "      <td>6.723200</td>\n",
       "      <td>1.698083e+05</td>\n",
       "      <td>82.956376</td>\n",
       "      <td>58.985043</td>\n",
       "    </tr>\n",
       "    <tr>\n",
       "      <th>std</th>\n",
       "      <td>288.819436</td>\n",
       "      <td>3.205962</td>\n",
       "      <td>18.810908</td>\n",
       "      <td>0.945429</td>\n",
       "      <td>1.887626e+05</td>\n",
       "      <td>96.412043</td>\n",
       "      <td>17.194757</td>\n",
       "    </tr>\n",
       "    <tr>\n",
       "      <th>min</th>\n",
       "      <td>1.000000</td>\n",
       "      <td>2006.000000</td>\n",
       "      <td>66.000000</td>\n",
       "      <td>1.900000</td>\n",
       "      <td>6.100000e+01</td>\n",
       "      <td>0.000000</td>\n",
       "      <td>11.000000</td>\n",
       "    </tr>\n",
       "    <tr>\n",
       "      <th>25%</th>\n",
       "      <td>250.750000</td>\n",
       "      <td>2010.000000</td>\n",
       "      <td>100.000000</td>\n",
       "      <td>6.200000</td>\n",
       "      <td>3.630900e+04</td>\n",
       "      <td>17.442500</td>\n",
       "      <td>47.000000</td>\n",
       "    </tr>\n",
       "    <tr>\n",
       "      <th>50%</th>\n",
       "      <td>500.500000</td>\n",
       "      <td>2014.000000</td>\n",
       "      <td>111.000000</td>\n",
       "      <td>6.800000</td>\n",
       "      <td>1.107990e+05</td>\n",
       "      <td>60.375000</td>\n",
       "      <td>59.500000</td>\n",
       "    </tr>\n",
       "    <tr>\n",
       "      <th>75%</th>\n",
       "      <td>750.250000</td>\n",
       "      <td>2016.000000</td>\n",
       "      <td>123.000000</td>\n",
       "      <td>7.400000</td>\n",
       "      <td>2.399098e+05</td>\n",
       "      <td>99.177500</td>\n",
       "      <td>72.000000</td>\n",
       "    </tr>\n",
       "    <tr>\n",
       "      <th>max</th>\n",
       "      <td>1000.000000</td>\n",
       "      <td>2016.000000</td>\n",
       "      <td>191.000000</td>\n",
       "      <td>9.000000</td>\n",
       "      <td>1.791916e+06</td>\n",
       "      <td>936.630000</td>\n",
       "      <td>100.000000</td>\n",
       "    </tr>\n",
       "  </tbody>\n",
       "</table>\n",
       "</div>"
      ],
      "text/plain": [
       "              rank         year      runtime       rating         votes  \\\n",
       "count  1000.000000  1000.000000  1000.000000  1000.000000  1.000000e+03   \n",
       "mean    500.500000  2012.783000   113.172000     6.723200  1.698083e+05   \n",
       "std     288.819436     3.205962    18.810908     0.945429  1.887626e+05   \n",
       "min       1.000000  2006.000000    66.000000     1.900000  6.100000e+01   \n",
       "25%     250.750000  2010.000000   100.000000     6.200000  3.630900e+04   \n",
       "50%     500.500000  2014.000000   111.000000     6.800000  1.107990e+05   \n",
       "75%     750.250000  2016.000000   123.000000     7.400000  2.399098e+05   \n",
       "max    1000.000000  2016.000000   191.000000     9.000000  1.791916e+06   \n",
       "\n",
       "       revenue_millions   metascore  \n",
       "count       1000.000000  936.000000  \n",
       "mean          82.956376   58.985043  \n",
       "std           96.412043   17.194757  \n",
       "min            0.000000   11.000000  \n",
       "25%           17.442500   47.000000  \n",
       "50%           60.375000   59.500000  \n",
       "75%           99.177500   72.000000  \n",
       "max          936.630000  100.000000  "
      ]
     },
     "execution_count": 46,
     "metadata": {},
     "output_type": "execute_result"
    }
   ],
   "source": [
    "moviedf.describe()"
   ]
  },
  {
   "cell_type": "code",
   "execution_count": 47,
   "id": "87bc1fce",
   "metadata": {},
   "outputs": [
    {
     "data": {
      "text/plain": [
       "count                        1000\n",
       "unique                        207\n",
       "top       Action,Adventure,Sci-Fi\n",
       "freq                           50\n",
       "Name: genre, dtype: object"
      ]
     },
     "execution_count": 47,
     "metadata": {},
     "output_type": "execute_result"
    }
   ],
   "source": [
    "moviedf['genre'].describe()"
   ]
  },
  {
   "cell_type": "code",
   "execution_count": 48,
   "id": "1964e5e5",
   "metadata": {},
   "outputs": [
    {
     "data": {
      "text/plain": [
       "Action,Adventure,Sci-Fi       50\n",
       "Drama                         48\n",
       "Comedy,Drama,Romance          35\n",
       "Comedy                        32\n",
       "Drama,Romance                 31\n",
       "Animation,Adventure,Comedy    27\n",
       "Action,Adventure,Fantasy      27\n",
       "Comedy,Drama                  27\n",
       "Comedy,Romance                26\n",
       "Crime,Drama,Thriller          24\n",
       "Name: genre, dtype: int64"
      ]
     },
     "execution_count": 48,
     "metadata": {},
     "output_type": "execute_result"
    }
   ],
   "source": [
    "moviedf['genre'].value_counts().head(10)"
   ]
  },
  {
   "cell_type": "code",
   "execution_count": 49,
   "id": "6d1a87ee",
   "metadata": {},
   "outputs": [
    {
     "name": "stderr",
     "output_type": "stream",
     "text": [
      "/tmp/ipykernel_2195/782670761.py:1: FutureWarning: The default value of numeric_only in DataFrame.corr is deprecated. In a future version, it will default to False. Select only valid columns or specify the value of numeric_only to silence this warning.\n",
      "  moviedf.corr()\n"
     ]
    },
    {
     "data": {
      "text/html": [
       "<div>\n",
       "<style scoped>\n",
       "    .dataframe tbody tr th:only-of-type {\n",
       "        vertical-align: middle;\n",
       "    }\n",
       "\n",
       "    .dataframe tbody tr th {\n",
       "        vertical-align: top;\n",
       "    }\n",
       "\n",
       "    .dataframe thead th {\n",
       "        text-align: right;\n",
       "    }\n",
       "</style>\n",
       "<table border=\"1\" class=\"dataframe\">\n",
       "  <thead>\n",
       "    <tr style=\"text-align: right;\">\n",
       "      <th></th>\n",
       "      <th>rank</th>\n",
       "      <th>year</th>\n",
       "      <th>runtime</th>\n",
       "      <th>rating</th>\n",
       "      <th>votes</th>\n",
       "      <th>revenue_millions</th>\n",
       "      <th>metascore</th>\n",
       "    </tr>\n",
       "  </thead>\n",
       "  <tbody>\n",
       "    <tr>\n",
       "      <th>rank</th>\n",
       "      <td>1.000000</td>\n",
       "      <td>-0.261605</td>\n",
       "      <td>-0.221739</td>\n",
       "      <td>-0.219555</td>\n",
       "      <td>-0.283876</td>\n",
       "      <td>-0.252996</td>\n",
       "      <td>-0.191869</td>\n",
       "    </tr>\n",
       "    <tr>\n",
       "      <th>year</th>\n",
       "      <td>-0.261605</td>\n",
       "      <td>1.000000</td>\n",
       "      <td>-0.164900</td>\n",
       "      <td>-0.211219</td>\n",
       "      <td>-0.411904</td>\n",
       "      <td>-0.117562</td>\n",
       "      <td>-0.079305</td>\n",
       "    </tr>\n",
       "    <tr>\n",
       "      <th>runtime</th>\n",
       "      <td>-0.221739</td>\n",
       "      <td>-0.164900</td>\n",
       "      <td>1.000000</td>\n",
       "      <td>0.392214</td>\n",
       "      <td>0.407062</td>\n",
       "      <td>0.247834</td>\n",
       "      <td>0.211978</td>\n",
       "    </tr>\n",
       "    <tr>\n",
       "      <th>rating</th>\n",
       "      <td>-0.219555</td>\n",
       "      <td>-0.211219</td>\n",
       "      <td>0.392214</td>\n",
       "      <td>1.000000</td>\n",
       "      <td>0.511537</td>\n",
       "      <td>0.189527</td>\n",
       "      <td>0.631897</td>\n",
       "    </tr>\n",
       "    <tr>\n",
       "      <th>votes</th>\n",
       "      <td>-0.283876</td>\n",
       "      <td>-0.411904</td>\n",
       "      <td>0.407062</td>\n",
       "      <td>0.511537</td>\n",
       "      <td>1.000000</td>\n",
       "      <td>0.607941</td>\n",
       "      <td>0.325684</td>\n",
       "    </tr>\n",
       "    <tr>\n",
       "      <th>revenue_millions</th>\n",
       "      <td>-0.252996</td>\n",
       "      <td>-0.117562</td>\n",
       "      <td>0.247834</td>\n",
       "      <td>0.189527</td>\n",
       "      <td>0.607941</td>\n",
       "      <td>1.000000</td>\n",
       "      <td>0.133328</td>\n",
       "    </tr>\n",
       "    <tr>\n",
       "      <th>metascore</th>\n",
       "      <td>-0.191869</td>\n",
       "      <td>-0.079305</td>\n",
       "      <td>0.211978</td>\n",
       "      <td>0.631897</td>\n",
       "      <td>0.325684</td>\n",
       "      <td>0.133328</td>\n",
       "      <td>1.000000</td>\n",
       "    </tr>\n",
       "  </tbody>\n",
       "</table>\n",
       "</div>"
      ],
      "text/plain": [
       "                      rank      year   runtime    rating     votes  \\\n",
       "rank              1.000000 -0.261605 -0.221739 -0.219555 -0.283876   \n",
       "year             -0.261605  1.000000 -0.164900 -0.211219 -0.411904   \n",
       "runtime          -0.221739 -0.164900  1.000000  0.392214  0.407062   \n",
       "rating           -0.219555 -0.211219  0.392214  1.000000  0.511537   \n",
       "votes            -0.283876 -0.411904  0.407062  0.511537  1.000000   \n",
       "revenue_millions -0.252996 -0.117562  0.247834  0.189527  0.607941   \n",
       "metascore        -0.191869 -0.079305  0.211978  0.631897  0.325684   \n",
       "\n",
       "                  revenue_millions  metascore  \n",
       "rank                     -0.252996  -0.191869  \n",
       "year                     -0.117562  -0.079305  \n",
       "runtime                   0.247834   0.211978  \n",
       "rating                    0.189527   0.631897  \n",
       "votes                     0.607941   0.325684  \n",
       "revenue_millions          1.000000   0.133328  \n",
       "metascore                 0.133328   1.000000  "
      ]
     },
     "execution_count": 49,
     "metadata": {},
     "output_type": "execute_result"
    }
   ],
   "source": [
    "moviedf.corr()"
   ]
  },
  {
   "cell_type": "code",
   "execution_count": 50,
   "id": "b06973b9",
   "metadata": {},
   "outputs": [],
   "source": [
    "genre_col = moviedf['genre']"
   ]
  },
  {
   "cell_type": "code",
   "execution_count": 51,
   "id": "c9f60893",
   "metadata": {},
   "outputs": [
    {
     "data": {
      "text/plain": [
       "pandas.core.series.Series"
      ]
     },
     "execution_count": 51,
     "metadata": {},
     "output_type": "execute_result"
    }
   ],
   "source": [
    "type(genre_col)"
   ]
  },
  {
   "cell_type": "code",
   "execution_count": 52,
   "id": "a2ba82e6",
   "metadata": {},
   "outputs": [
    {
     "data": {
      "text/html": [
       "<div>\n",
       "<style scoped>\n",
       "    .dataframe tbody tr th:only-of-type {\n",
       "        vertical-align: middle;\n",
       "    }\n",
       "\n",
       "    .dataframe tbody tr th {\n",
       "        vertical-align: top;\n",
       "    }\n",
       "\n",
       "    .dataframe thead th {\n",
       "        text-align: right;\n",
       "    }\n",
       "</style>\n",
       "<table border=\"1\" class=\"dataframe\">\n",
       "  <thead>\n",
       "    <tr style=\"text-align: right;\">\n",
       "      <th></th>\n",
       "      <th>genre</th>\n",
       "      <th>rating</th>\n",
       "    </tr>\n",
       "  </thead>\n",
       "  <tbody>\n",
       "    <tr>\n",
       "      <th>0</th>\n",
       "      <td>Action,Adventure,Sci-Fi</td>\n",
       "      <td>8.1</td>\n",
       "    </tr>\n",
       "    <tr>\n",
       "      <th>1</th>\n",
       "      <td>Adventure,Mystery,Sci-Fi</td>\n",
       "      <td>7.0</td>\n",
       "    </tr>\n",
       "    <tr>\n",
       "      <th>2</th>\n",
       "      <td>Horror,Thriller</td>\n",
       "      <td>7.3</td>\n",
       "    </tr>\n",
       "    <tr>\n",
       "      <th>3</th>\n",
       "      <td>Animation,Comedy,Family</td>\n",
       "      <td>7.2</td>\n",
       "    </tr>\n",
       "    <tr>\n",
       "      <th>4</th>\n",
       "      <td>Action,Adventure,Fantasy</td>\n",
       "      <td>6.2</td>\n",
       "    </tr>\n",
       "  </tbody>\n",
       "</table>\n",
       "</div>"
      ],
      "text/plain": [
       "                      genre  rating\n",
       "0   Action,Adventure,Sci-Fi     8.1\n",
       "1  Adventure,Mystery,Sci-Fi     7.0\n",
       "2           Horror,Thriller     7.3\n",
       "3   Animation,Comedy,Family     7.2\n",
       "4  Action,Adventure,Fantasy     6.2"
      ]
     },
     "execution_count": 52,
     "metadata": {},
     "output_type": "execute_result"
    }
   ],
   "source": [
    "subset = moviedf[['genre', 'rating']]\n",
    "subset.head()"
   ]
  },
  {
   "cell_type": "code",
   "execution_count": 53,
   "id": "3b83d54f",
   "metadata": {},
   "outputs": [],
   "source": [
    "import matplotlib.pyplot as plt\n",
    "plt.rcParams.update({'font.size': 20, 'figure.figsize': (10, 8)}) # set font and plot size to be larger\n"
   ]
  },
  {
   "cell_type": "code",
   "execution_count": 54,
   "id": "c9fc2808",
   "metadata": {},
   "outputs": [
    {
     "data": {
      "image/png": "[encoded data removed]",
      "text/plain": [
       "<Figure size 1000x800 with 1 Axes>"
      ]
     },
     "metadata": {},
     "output_type": "display_data"
    }
   ],
   "source": [
    "moviedf.plot(kind='scatter', x='rating', y='revenue_millions', title='Revenue (millions) vs Rating');"
   ]
  },
  {
   "cell_type": "code",
   "execution_count": 56,
   "id": "4c2d79e6",
   "metadata": {},
   "outputs": [
    {
     "data": {
      "image/png": "[encoded data removed]",
      "text/plain": [
       "<Figure size 1000x800 with 1 Axes>"
      ]
     },
     "metadata": {},
     "output_type": "display_data"
    }
   ],
   "source": [
    "moviedf.plot(kind='scatter', x='genre', y='revenue_millions', title='Revenue (millions) vs Rating');"
   ]
  },
  {
   "cell_type": "code",
   "execution_count": 57,
   "id": "9b41ca30",
   "metadata": {},
   "outputs": [
    {
     "data": {
      "image/png": "[encoded data removed]",
      "text/plain": [
       "<Figure size 1000x800 with 1 Axes>"
      ]
     },
     "metadata": {},
     "output_type": "display_data"
    }
   ],
   "source": [
    "moviedf['rating'].plot(kind='hist', title='Rating');"
   ]
  },
  {
   "cell_type": "code",
   "execution_count": 58,
   "id": "04555a3f",
   "metadata": {},
   "outputs": [
    {
     "data": {
      "text/plain": [
       "count    1000.000000\n",
       "mean        6.723200\n",
       "std         0.945429\n",
       "min         1.900000\n",
       "25%         6.200000\n",
       "50%         6.800000\n",
       "75%         7.400000\n",
       "max         9.000000\n",
       "Name: rating, dtype: float64"
      ]
     },
     "execution_count": 58,
     "metadata": {},
     "output_type": "execute_result"
    }
   ],
   "source": [
    "moviedf['rating'].describe()"
   ]
  },
  {
   "cell_type": "code",
   "execution_count": 60,
   "id": "339e2383",
   "metadata": {},
   "outputs": [
    {
     "data": {
      "image/png": "[encoded data removed]",
      "text/plain": [
       "<Figure size 1000x800 with 1 Axes>"
      ]
     },
     "metadata": {},
     "output_type": "display_data"
    }
   ],
   "source": [
    "moviedf['rating'].plot(kind=\"box\");"
   ]
  },
  {
   "cell_type": "code",
   "execution_count": 70,
   "id": "b05f3dbe",
   "metadata": {},
   "outputs": [
    {
     "data": {
      "image/png": "[encoded data removed]",
      "text/plain": [
       "<Figure size 1000x800 with 1 Axes>"
      ]
     },
     "metadata": {},
     "output_type": "display_data"
    }
   ],
   "source": [
    "moviedf.boxplot(column='revenue_millions', by='rating');"
   ]
  },
  {
   "cell_type": "code",
   "execution_count": 79,
   "id": "8737c4a6",
   "metadata": {},
   "outputs": [
    {
     "data": {
      "application/vnd.jupyter.widget-view+json": {
       "model_id": "9255d87e5f594c6abc9f1234906d985b",
       "version_major": 2,
       "version_minor": 0
      },
      "text/plain": [
       "interactive(children=(Dropdown(description='X-axis:', options=('rank', 'title', 'genre', 'description', 'direc…"
      ]
     },
     "metadata": {},
     "output_type": "display_data"
    },
    {
     "data": {
      "text/plain": [
       "<function __main__.dynamic_scatter_plot(x_col, y_col)>"
      ]
     },
     "execution_count": 79,
     "metadata": {},
     "output_type": "execute_result"
    }
   ],
   "source": [
    "from ipywidgets import interact, widgets\n",
    "\n",
    "\n",
    "\n",
    "# Create a scatter plot function\n",
    "def dynamic_scatter_plot(x_col, y_col):\n",
    "    plt.figure(figsize=(10, 6))\n",
    "    plt.scatter(moviedf[x_col], moviedf[y_col], c=moviedf['rating'], cmap='viridis', alpha=0.6)\n",
    "    plt.colorbar(label='Rating')\n",
    "    plt.xlabel(x_col)\n",
    "    plt.ylabel(y_col)\n",
    "    plt.title(f'Scatter Plot of Movies ({x_col} vs. {y_col})')\n",
    "    plt.show()\n",
    "\n",
    "# Create interactive widgets for selecting columns\n",
    "x_column_widget = widgets.Dropdown(options=moviedf.columns, description='X-axis:')\n",
    "y_column_widget = widgets.Dropdown(options=moviedf.columns, description='Y-axis:')\n",
    "\n",
    "# Create an interactive plot using ipywidgets\n",
    "interact(dynamic_scatter_plot, x_col=x_column_widget, y_col=y_column_widget)\n"
   ]
  },
  {
   "cell_type": "code",
   "execution_count": null,
   "id": "dd1b8aa3",
   "metadata": {},
   "outputs": [],
   "source": []
  },
  {
   "cell_type": "code",
   "execution_count": null,
   "id": "50863f94",
   "metadata": {},
   "outputs": [],
   "source": []
  }
 ],
 "metadata": {
  "kernelspec": {
   "display_name": "Python 3 (ipykernel)",
   "language": "python",
   "name": "python3"
  },
  "language_info": {
   "codemirror_mode": {
    "name": "ipython",
    "version": 3
   },
   "file_extension": ".py",
   "mimetype": "text/x-python",
   "name": "python",
   "nbconvert_exporter": "python",
   "pygments_lexer": "ipython3",
   "version": "3.11.4"
  }
 },
 "nbformat": 4,
 "nbformat_minor": 5
}
